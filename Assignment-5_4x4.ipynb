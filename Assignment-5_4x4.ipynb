{
 "cells": [
  {
   "cell_type": "markdown",
   "id": "914699ef",
   "metadata": {},
   "source": [
    "### Name: Rushik patel\n",
    "### UGID: 21WU0101046\n",
    "### Assignment - 5"
   ]
  },
  {
   "cell_type": "raw",
   "id": "5aadabdb",
   "metadata": {},
   "source": [
    "Questions:"
   ]
  },
  {
   "cell_type": "markdown",
   "id": "3dda2435",
   "metadata": {},
   "source": [
    "1. What does an empty dictionary's code look like?\n",
    "\n",
    "2. What is the value of a dictionary value with the key 'foo' and the value 42?\n",
    "\n",
    "3. What is the most significant distinction between a dictionary and a list?\n",
    "\n",
    "4. What happens if you try to access spam['foo'] if spam is {'bar': 100}?\n",
    "\n",
    "5. If a dictionary is stored in spam, what is the difference between the expressions 'cat' in spam and 'cat' in spam.keys()?\n",
    "\n",
    "6. If a dictionary is stored in spam, what is the difference between the expressions 'cat' in spam and 'cat' in spam.values()?\n",
    "\n",
    "7. What is a shortcut for the following code?\n",
    "\n",
    "if 'color' not in spam:\n",
    "\n",
    "spam['color'] = 'black'\n",
    "\n",
    "\n",
    "8. How do you \"pretty print\" dictionary values using which module and function?"
   ]
  },
  {
   "cell_type": "raw",
   "id": "5939dc16",
   "metadata": {},
   "source": [
    "Solutions:"
   ]
  },
  {
   "cell_type": "code",
   "execution_count": 1,
   "id": "e471d572",
   "metadata": {},
   "outputs": [],
   "source": [
    "1.\n",
    "\n",
    "dict = {} #empty dictionary"
   ]
  },
  {
   "cell_type": "code",
   "execution_count": 2,
   "id": "c11b5bd8",
   "metadata": {},
   "outputs": [
    {
     "data": {
      "text/plain": [
       "{'foo': 42}"
      ]
     },
     "execution_count": 2,
     "metadata": {},
     "output_type": "execute_result"
    }
   ],
   "source": [
    "2.\n",
    "\n",
    "dict = {'foo': 42}\n",
    "dict"
   ]
  },
  {
   "cell_type": "raw",
   "id": "ae1af1ef",
   "metadata": {},
   "source": [
    "3.\n",
    "\n",
    "List - items in list are Ordered\n",
    "Dictionary : items in dictionary are unordered"
   ]
  },
  {
   "cell_type": "code",
   "execution_count": 3,
   "id": "455d0d17",
   "metadata": {},
   "outputs": [
    {
     "ename": "KeyError",
     "evalue": "'foo'",
     "output_type": "error",
     "traceback": [
      "\u001b[1;31m---------------------------------------------------------------------------\u001b[0m",
      "\u001b[1;31mKeyError\u001b[0m                                  Traceback (most recent call last)",
      "Cell \u001b[1;32mIn[3], line 4\u001b[0m\n\u001b[0;32m      1\u001b[0m \u001b[38;5;241m4.\u001b[39m\n\u001b[0;32m      3\u001b[0m spam \u001b[38;5;241m=\u001b[39m {\u001b[38;5;124m'\u001b[39m\u001b[38;5;124mbar\u001b[39m\u001b[38;5;124m'\u001b[39m: \u001b[38;5;241m100\u001b[39m}\n\u001b[1;32m----> 4\u001b[0m spam[\u001b[38;5;124m'\u001b[39m\u001b[38;5;124mfoo\u001b[39m\u001b[38;5;124m'\u001b[39m]\n",
      "\u001b[1;31mKeyError\u001b[0m: 'foo'"
     ]
    }
   ],
   "source": [
    "4.\n",
    "\n",
    "spam = {'bar': 100}\n",
    "spam['foo']\n",
    "\n",
    "# Gives Key Error"
   ]
  },
  {
   "cell_type": "code",
   "execution_count": 4,
   "id": "9d64d797",
   "metadata": {},
   "outputs": [
    {
     "data": {
      "text/plain": [
       "True"
      ]
     },
     "execution_count": 4,
     "metadata": {},
     "output_type": "execute_result"
    }
   ],
   "source": [
    "5.\n",
    "\n",
    "spam = {'cat': 99}\n",
    "'cat' in spam"
   ]
  },
  {
   "cell_type": "code",
   "execution_count": 5,
   "id": "897df8ae",
   "metadata": {},
   "outputs": [
    {
     "data": {
      "text/plain": [
       "True"
      ]
     },
     "execution_count": 5,
     "metadata": {},
     "output_type": "execute_result"
    }
   ],
   "source": [
    "spam = {'cat': 99}\n",
    "'cat' in spam.keys()\n",
    "\n",
    "# Both check if cat is key"
   ]
  },
  {
   "cell_type": "code",
   "execution_count": 6,
   "id": "ae1db90c",
   "metadata": {},
   "outputs": [
    {
     "data": {
      "text/plain": [
       "False"
      ]
     },
     "execution_count": 6,
     "metadata": {},
     "output_type": "execute_result"
    }
   ],
   "source": [
    "6.\n",
    "\n",
    "spam = {'cat': 99}\n",
    "'cat' in spam.values()\n",
    "\n",
    "# checks whether cat is in key, if not returns false."
   ]
  },
  {
   "cell_type": "code",
   "execution_count": 7,
   "id": "8a16c7f2",
   "metadata": {},
   "outputs": [
    {
     "data": {
      "text/plain": [
       "{'cat': 99, 'color': 'black'}"
      ]
     },
     "execution_count": 7,
     "metadata": {},
     "output_type": "execute_result"
    }
   ],
   "source": [
    "7.\n",
    "\n",
    "spam ={'cat':99}\n",
    "spam.setdefault('color','black')\n",
    "spam"
   ]
  },
  {
   "cell_type": "code",
   "execution_count": 8,
   "id": "f3a79d04",
   "metadata": {},
   "outputs": [],
   "source": [
    "8.\n",
    "\n",
    "import pprint\n",
    "\n",
    "dict = [ {'Name': 'Manasa', 'Age': '21', 'Country': 'India'},\n",
    "  {'Name': 'Anii', 'Age': '28', 'Country': 'China'},\n",
    "  {'Name': 'Merk', 'Age': '29', 'Country': 'UK'},\n",
    "  {'Name': 'Greg', 'Age': '30', 'Country': 'USA'}\n",
    "]"
   ]
  },
  {
   "cell_type": "code",
   "execution_count": 9,
   "id": "29661a04",
   "metadata": {},
   "outputs": [
    {
     "name": "stdout",
     "output_type": "stream",
     "text": [
      "[{'Age': '21', 'Country': 'India', 'Name': 'Manasa'},\n",
      " {'Age': '28', 'Country': 'China', 'Name': 'Anii'},\n",
      " {'Age': '29', 'Country': 'UK', 'Name': 'Merk'},\n",
      " {'Age': '30', 'Country': 'USA', 'Name': 'Greg'}]\n"
     ]
    }
   ],
   "source": [
    "# printing with pprint()\n",
    "pprint.pprint(dict)"
   ]
  },
  {
   "cell_type": "code",
   "execution_count": 10,
   "id": "022cde33",
   "metadata": {},
   "outputs": [
    {
     "name": "stdout",
     "output_type": "stream",
     "text": [
      "[{'Name': 'Manasa', 'Age': '21', 'Country': 'India'}, {'Name': 'Anii', 'Age': '28', 'Country': 'China'}, {'Name': 'Merk', 'Age': '29', 'Country': 'UK'}, {'Name': 'Greg', 'Age': '30', 'Country': 'USA'}]\n"
     ]
    }
   ],
   "source": [
    "#Printing with print()\n",
    "print(dict)"
   ]
  }
 ],
 "metadata": {
  "kernelspec": {
   "display_name": "Python 3 (ipykernel)",
   "language": "python",
   "name": "python3"
  },
  "language_info": {
   "codemirror_mode": {
    "name": "ipython",
    "version": 3
   },
   "file_extension": ".py",
   "mimetype": "text/x-python",
   "name": "python",
   "nbconvert_exporter": "python",
   "pygments_lexer": "ipython3",
   "version": "3.11.4"
  }
 },
 "nbformat": 4,
 "nbformat_minor": 5
}
