{
 "cells": [
  {
   "cell_type": "markdown",
   "id": "3f81741d",
   "metadata": {},
   "source": [
    "### Name: Manasa P \n",
    "### UGID: 21WU0101055\n",
    "### Team: 3\n",
    "    \n",
    "### Assignment - 13"
   ]
  },
  {
   "cell_type": "raw",
   "id": "c15645e8",
   "metadata": {},
   "source": [
    "Questions:"
   ]
  },
  {
   "cell_type": "raw",
   "id": "d9ad58ce",
   "metadata": {},
   "source": [
    "Q.1. Create two int type variables, apply addition, subtraction, division and multiplications\n",
    " and store the results in variables. Then print the data in the following format by calling the\n",
    " variables:\n",
    " First variable is __ & second variable is __.\n",
    " Addition: __ + __ = __\n",
    " Subtraction: __- __ = __\n",
    " Multiplication: __ * __ = __\n",
    " Division: __ / __ = __\n",
    "\n",
    "Q.2. What is the difference between the following operators:\n",
    " (i)  ‘/’ & ‘//’\n",
    " (ii) ‘**’ & ‘^’\n",
    "Q.3. List the logical operators.\n",
    "Q.4. Explain right shift operator and left shift operator with examples.\n",
    "Q.5. Create a list containing int type data of length 15. Then write a code to check if 10 is\n",
    " present in the list or not"
   ]
  },
  {
   "cell_type": "raw",
   "id": "f6add38a",
   "metadata": {},
   "source": [
    "Solutions:"
   ]
  },
  {
   "cell_type": "code",
   "execution_count": 1,
   "id": "8da59c96",
   "metadata": {},
   "outputs": [
    {
     "name": "stdout",
     "output_type": "stream",
     "text": [
      "First variable is 11 & second variable is 6.\n",
      "Addition: 11 + 6 = 17\n",
      "Subtraction: 11 - 6 = 5\n",
      "Multiplication: 11 * 6 = 66\n",
      "Division: 11 / 6 = 1.8333333333333333\n"
     ]
    }
   ],
   "source": [
    "1.\n",
    "\n",
    "first_variable = 11\n",
    "second_variable = 6\n",
    "\n",
    "addition = first_variable + second_variable\n",
    "subtraction = first_variable - second_variable\n",
    "multiplication = first_variable * second_variable\n",
    "division = first_variable / second_variable\n",
    "\n",
    "print(f\"First variable is {first_variable} & second variable is {second_variable}.\")\n",
    "print(f\"Addition: {first_variable} + {second_variable} = {addition}\")\n",
    "print(f\"Subtraction: {first_variable} - {second_variable} = {subtraction}\")\n",
    "print(f\"Multiplication: {first_variable} * {second_variable} = {multiplication}\")\n",
    "print(f\"Division: {first_variable} / {second_variable} = {division}\")\n"
   ]
  },
  {
   "cell_type": "raw",
   "id": "ffc4274c",
   "metadata": {},
   "source": [
    "2.\n",
    "i) ‘/’ & ‘//’\n",
    "\n",
    "/ (Division operator):\n",
    "The / operator performs floating-point division. It always returns a result as a float, even if the division results in a whole number.\n",
    "Example:\n",
    "result = 5 / 2  \n",
    "# Output: 2.5\n",
    "\n",
    "// (Floor Division operator):\n",
    "The // operator performs floor division, which means it divides the two numbers and returns the largest integer that is less than or equal to the result.\n",
    "Example:\n",
    "result = 5 // 2  \n",
    "# Output: 2 (rounded integer)\n",
    "\n",
    "\n",
    "ii) ‘**’ & ‘^’\n",
    "\n",
    "** (Exponentiation operator):\n",
    "The ** operator is used for exponentiation, which raises a number to the power of another number.\n",
    "Example:\n",
    "result = 2 ** 3  \n",
    "# Output: 8 (2 raised to the power of 3)\n",
    "\n",
    "^ (Bitwise XOR operator):\n",
    "The ^ operator performs bitwise XOR (exclusive OR). It compares the corresponding bits of two integers. It returns 1 if the bits are different and 0 if they are the same.\n",
    "Example:\n",
    "result = 5 ^ 3  \n",
    "# Output: 6 (Binary: 0101 ^ 0011 = 0110)"
   ]
  },
  {
   "cell_type": "raw",
   "id": "4c32b114",
   "metadata": {},
   "source": [
    "3.\n",
    "\n",
    "Python has the following logical operators:\n",
    "\n",
    "and: Returns True if both conditions are True.\n",
    "Example: True and False returns False.\n",
    "\n",
    "or: Returns True if at least one of the conditions is True.\n",
    "Example: True or False returns True.\n",
    "\n",
    "not: Reverses the logical state of the condition. If the condition is True, it returns False, and vice versa.\n",
    "Example: not True returns False."
   ]
  },
  {
   "cell_type": "raw",
   "id": "5c6d1b9f",
   "metadata": {},
   "source": [
    "4.\n",
    "\n",
    "Right Shift Operator (>>):\n",
    "The right shift operator shifts the bits of a number to the right by a specified number of positions. This effectively divides the number by 2^n, where n is the number of positions.\n",
    "Example:\n",
    "num = 16           # Binary: 10000\n",
    "result = num >> 2  # Shift bits 2 places to the right\n",
    "print(result)      # Output: 4 (Binary: 100)\n",
    "\n",
    "\n",
    "Left Shift Operator (<<):\n",
    "The left shift operator shifts the bits of a number to the left by a specified number of positions. This effectively multiplies the number by 2^n, where n is the number of positions.\n",
    "Example:\n",
    "num = 4            # Binary: 100\n",
    "result = num << 2  # Shift bits 2 places to the left\n",
    "print(result)      # Output: 16 (Binary: 10000)"
   ]
  },
  {
   "cell_type": "code",
   "execution_count": 2,
   "id": "50fabe08",
   "metadata": {},
   "outputs": [
    {
     "name": "stdout",
     "output_type": "stream",
     "text": [
      "10 is present in the list.\n"
     ]
    }
   ],
   "source": [
    "5.\n",
    "\n",
    "int_list = [1, 55, 17, 3, 10, 6, 2, 4, 8, 9, 11, 5, 13, 4, 12]\n",
    "\n",
    "if 10 in int_list:\n",
    "    print(\"10 is present in the list.\")\n",
    "else:\n",
    "    print(\"10 is not present in the list.\")\n"
   ]
  },
  {
   "cell_type": "code",
   "execution_count": null,
   "id": "b1b27a19",
   "metadata": {},
   "outputs": [],
   "source": []
  }
 ],
 "metadata": {
  "kernelspec": {
   "display_name": "Python 3 (ipykernel)",
   "language": "python",
   "name": "python3"
  },
  "language_info": {
   "codemirror_mode": {
    "name": "ipython",
    "version": 3
   },
   "file_extension": ".py",
   "mimetype": "text/x-python",
   "name": "python",
   "nbconvert_exporter": "python",
   "pygments_lexer": "ipython3",
   "version": "3.9.13"
  }
 },
 "nbformat": 4,
 "nbformat_minor": 5
}
