{
 "cells": [
  {
   "cell_type": "markdown",
   "id": "7a9c3410",
   "metadata": {},
   "source": [
    "### Name: Rushik patel\n",
    "### UGID: 21WU0101046\n",
    "### Assignment - 12"
   ]
  },
  {
   "cell_type": "raw",
   "id": "8d5813a6",
   "metadata": {},
   "source": [
    "Questions:"
   ]
  },
  {
   "cell_type": "raw",
   "id": "d5ab3eef",
   "metadata": {},
   "source": [
    " Q.1. What are keywords in python? Using the keyword library, print all the python keywords.\n",
    " Q.2. What are the rules to create variables in python?\n",
    " Q.3. What are the standards and conventions followed for the nomenclature of variables in\n",
    " python to improve code readability and maintainability?\n",
    " Q.4. What will happen if a keyword is used as a variable name?\n",
    " Q.5. For what purpose def keyword is used?\n",
    " Q.6. What is the operation of this special character ‘\\’?\n",
    " Q.7. Give an example of the following conditions:\n",
    "  (i) Homogeneous list\n",
    "  (ii) Heterogeneous set\n",
    "  (iii) Homogeneous tuple\n",
    " Q.8. Explain the mutable and immutable data types with proper explanation & examples.\n",
    " Q.9. Write a code to create the given structure using only for loop.\n",
    " \n",
    "     *\n",
    "    ***\n",
    "   *****\n",
    "  *******\n",
    " *********\n",
    " \n",
    " Q.10. Write a code to create the given structure using while loop.\n",
    " \n",
    " |||||||||\n",
    "  |||||||\n",
    "   |||||\n",
    "    |||\n",
    "     |  "
   ]
  },
  {
   "cell_type": "raw",
   "id": "c6b21a9a",
   "metadata": {},
   "source": [
    "Solutions:"
   ]
  },
  {
   "cell_type": "raw",
   "id": "c6d70048",
   "metadata": {},
   "source": [
    "1.\n",
    "\n",
    "Keywords in Python are reserved words that have a special meaning and cannot be used as identifiers (like variable names). \n",
    "They are part of the Python syntax and are predefined in the language."
   ]
  },
  {
   "cell_type": "code",
   "execution_count": 1,
   "id": "34245cfc",
   "metadata": {},
   "outputs": [
    {
     "name": "stdout",
     "output_type": "stream",
     "text": [
      "['False', 'None', 'True', 'and', 'as', 'assert', 'async', 'await', 'break', 'class', 'continue', 'def', 'del', 'elif', 'else', 'except', 'finally', 'for', 'from', 'global', 'if', 'import', 'in', 'is', 'lambda', 'nonlocal', 'not', 'or', 'pass', 'raise', 'return', 'try', 'while', 'with', 'yield']\n"
     ]
    }
   ],
   "source": [
    "# To print all the Python keywords, you can use the keyword module:\n",
    "\n",
    "import keyword\n",
    "print(keyword.kwlist)"
   ]
  },
  {
   "cell_type": "raw",
   "id": "e568e704",
   "metadata": {},
   "source": [
    "2.\n",
    "\n",
    "The rules for creating variables in Python are as follows:\n",
    "\n",
    "- Variable names must start with a letter (a-z, A-Z) or an underscore (_), but not a digit.\n",
    "- The rest of the name can contain letters, digits (0-9), or underscores (_) and can be of unlimited length.\n",
    "- Variable names are case-sensitive.\n",
    "- Cannot use Python keywords as variable names.\n",
    "- No special characters (like @, #, !, etc.) are allowed in variable names."
   ]
  },
  {
   "cell_type": "raw",
   "id": "a7628c33",
   "metadata": {},
   "source": [
    "3.\n",
    "\n",
    "Some important standards and conventions include:\n",
    "\n",
    "-Use lowercase letters for variable names.\n",
    "-Use underscores to separate words in variable names.\n",
    "-Avoid single-letter variable names except for loop counters.\n",
    "-Use descriptive variable names that clearly indicate the purpose of the variable.\n",
    "-Avoid using Python keywords as variable names.\n",
    "-Use a consistent naming style."
   ]
  },
  {
   "cell_type": "raw",
   "id": "5958553e",
   "metadata": {},
   "source": [
    "4.\n",
    "\n",
    "If a keyword is used as a variable name, Python will raise a SyntaxError. \n",
    "Keywords are reserved for their specific function in the language, so they cannot be used as identifiers.\n",
    "ex: break = 'ana'  >> SyntaxError"
   ]
  },
  {
   "cell_type": "raw",
   "id": "9c7c5570",
   "metadata": {},
   "source": [
    "5.\n",
    "\n",
    "The def keyword in Python is used to define a function. \n",
    "It is followed by the function name and parameters, and the function body contains the code to be executed.\n",
    "\n",
    "ex:\n",
    "def func1():\n",
    "   #code\n",
    "func1()"
   ]
  },
  {
   "cell_type": "raw",
   "id": "76123518",
   "metadata": {},
   "source": [
    "6.\n",
    "\n",
    "The backslash (\\) is used as an escape character in Python. It allows you to insert special characters into strings.\n",
    "\n",
    "-To include a quote inside a string without ending it:\n",
    "text = \"He said, \\\"Hello!\\\"\"\n",
    "-Newline (\\n): Represents a new line.\n",
    "text = \"Hello\\nWorld\"\n",
    "-Tab (\\t): Represents a tab character.\n",
    "text = \"Hello\\tWorld\"\n",
    "-Backslash (\\\\): Used to represent a single backslash.\n",
    "text = \"This is a backslash: \\\\\""
   ]
  },
  {
   "cell_type": "raw",
   "id": "201a382f",
   "metadata": {},
   "source": [
    "7.\n",
    "\n",
    "(i) Homogeneous list: A list containing elements of the same type.\n",
    "homogeneous_list = [1, 2, 4, 5]\n",
    "\n",
    "(ii) Heterogeneous set: A set containing elements of different types.\n",
    "heterogeneous_set = {1, \"hello\", 3.14, True}\n",
    "\n",
    "(iii) Homogeneous tuple: A tuple containing elements of the same type.\n",
    "homogeneous_tuple = (1, 2, 3, 4, 5)"
   ]
  },
  {
   "cell_type": "raw",
   "id": "462cc5bd",
   "metadata": {},
   "source": [
    "8.\n",
    "\n",
    "Mutable data types are types where the value or content of the object can be changed after it is created.\n",
    "-They include list, set, dictionary.\n",
    "-Example:\n",
    "my_list = [1, 2, 3]\n",
    "my_list[0] = 100-\n",
    "print(my_list)  \n",
    "# Output: [100, 2, 3]\n",
    "\n",
    "Immutable data types are types where the value or content of the object cannot be changed after it is created.\n",
    "-They include tuple, str, int, float, frozenset.\n",
    "-Example:\n",
    "my_tuple = (1, 2, 3)\n",
    "my_tuple[0] = 100 \n",
    "# Output: Raises TypeError: 'tuple' object does not support item assignment"
   ]
  },
  {
   "cell_type": "code",
   "execution_count": 2,
   "id": "ed996622",
   "metadata": {},
   "outputs": [
    {
     "name": "stdout",
     "output_type": "stream",
     "text": [
      "    *\n",
      "   ***\n",
      "  *****\n",
      " *******\n",
      "*********\n"
     ]
    }
   ],
   "source": [
    "9.\n",
    "\n",
    "n = 5\n",
    "\n",
    "for i in range(n):\n",
    "    for j in range(n - i - 1):\n",
    "        print(\" \", end=\"\")\n",
    "\n",
    "    for j in range(2 * i + 1):\n",
    "        print(\"*\", end=\"\")\n",
    "        \n",
    "    print()\n"
   ]
  },
  {
   "cell_type": "code",
   "execution_count": 3,
   "id": "1bbec254",
   "metadata": {},
   "outputs": [
    {
     "name": "stdout",
     "output_type": "stream",
     "text": [
      "|||||||||\n",
      " |||||||\n",
      "  |||||\n",
      "   |||\n",
      "    |\n"
     ]
    }
   ],
   "source": [
    "10.\n",
    "\n",
    "n = 5\n",
    "i = 0\n",
    "\n",
    "while i < n:\n",
    "    print(\" \" * i, end=\"\")\n",
    "\n",
    "    print(\"|\" * (2 * (n - i) - 1))\n",
    "    \n",
    "    i += 1\n"
   ]
  }
 ],
 "metadata": {
  "kernelspec": {
   "display_name": "Python 3 (ipykernel)",
   "language": "python",
   "name": "python3"
  },
  "language_info": {
   "codemirror_mode": {
    "name": "ipython",
    "version": 3
   },
   "file_extension": ".py",
   "mimetype": "text/x-python",
   "name": "python",
   "nbconvert_exporter": "python",
   "pygments_lexer": "ipython3",
   "version": "3.11.4"
  }
 },
 "nbformat": 4,
 "nbformat_minor": 5
}
