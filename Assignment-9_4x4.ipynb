{
 "cells": [
  {
   "cell_type": "markdown",
   "id": "888526d4",
   "metadata": {},
   "source": [
    "### Name: Rushik patel\n",
    "### UGID: 21WU0101046\n",
    "### Assignment - 9"
   ]
  },
  {
   "cell_type": "raw",
   "id": "d50c4321",
   "metadata": {},
   "source": [
    "Questions:"
   ]
  },
  {
   "cell_type": "markdown",
   "id": "b7ef11d5",
   "metadata": {},
   "source": [
    " 1. What is a lambda function in Python, and how does it differ from a regular function?\n",
    " 2. Can a lambda function in Python have multiple arguments? If yes, how can you define and use\n",
    " them?\n",
    " 3. Howare lambda functions typically used in Python? Provide an example use case.\n",
    " 4. What are the advantages and limitations of lambda functions compared to regular functions in\n",
    " Python?\n",
    " 5. Are lambda functions in Python able to access variables defined outside of their own scope?\n",
    " Explain with an example.\n",
    " 6. Write a lambda function to calculate the square of a given number.\n",
    " 7. Create a lambda function to find the maximum value in a list of integers.\n",
    " 8. Implement a lambda function to filter out all the even numbers from a list of integers.\n",
    " 9. Write a lambda function to sort a list of strings in ascending order based on the length of each\n",
    " string.\n",
    " 10. Create a lambda function that takes two lists as input and returns a new list containing the\n",
    " common elements between the two lists.\n",
    " 11. Write a recursive function to calculate the factorial of a given positive integer.\n",
    " 12. Implement a recursive function to compute the nth Fibonacci number.\n",
    " 13. Create a recursive function to find the sum of all the elements in a given list.\n",
    " 14. Write a recursive function to determine whether a given string is a palindrome.\n",
    " 15. Implement a recursive function to find the greatest common divisor (GCD) of two positive integers."
   ]
  },
  {
   "cell_type": "raw",
   "id": "1e431974",
   "metadata": {},
   "source": [
    "Solutions:"
   ]
  },
  {
   "cell_type": "raw",
   "id": "121411f9",
   "metadata": {},
   "source": [
    "1.\n",
    "\n",
    "A lambda function is an anonymous function defined using the lambda keyword, capable of having multiple arguments but only a single expression.\n",
    "Difference from Regular Functions:\n",
    "- Compact and written in a single line.\n",
    "- No def or return keywords.\n",
    "- Used for quick, short-term use cases."
   ]
  },
  {
   "cell_type": "raw",
   "id": "f74035e2",
   "metadata": {},
   "source": [
    "2.\n",
    "\n",
    "Yes, lambda functions can have multiple arguments.\n",
    "Syntax: lambda arg1, arg2: expression\n",
    "\n",
    "multiply = lambda x, y: x * y\n",
    "print(multiply(3, 5)) \n",
    "\n",
    "Output: 15"
   ]
  },
  {
   "cell_type": "raw",
   "id": "a9978d75",
   "metadata": {},
   "source": [
    "3.\n",
    "\n",
    "Lambda functions are typically used:\n",
    "- In higher-order functions like map(), filter(), and sorted().\n",
    "- For short, one-time use operations.\n",
    "\n",
    "Ex:\n",
    "numbers = [1, 2, 3, 4]\n",
    "doubled = list(map(lambda x: x * 2, numbers))\n",
    "print(doubled) \n",
    "\n",
    "Output: [2, 4, 6, 8]"
   ]
  },
  {
   "cell_type": "raw",
   "id": "15e17472",
   "metadata": {},
   "source": [
    "4. \n",
    "\n",
    "Lambda functiosn compared to regular functions-\n",
    "Advantages:\n",
    "Concise syntax for simple operations.\n",
    "Ideal for one-liners in functional programming.\n",
    "\n",
    "Limitations:\n",
    "Lack of readability for complex operations.\n",
    "Limited functionality (cannot have multiple expressions or statements)."
   ]
  },
  {
   "cell_type": "raw",
   "id": "baf2eda1",
   "metadata": {},
   "source": [
    "5.\n",
    "\n",
    "Lambda functions can access variables from the enclosing scope (lexical scoping).\n",
    "\n",
    "Ex:\n",
    "    \n",
    "x = 10\n",
    "add = lambda y: x + y\n",
    "print(add(6))\n",
    "\n",
    "Output: 16"
   ]
  },
  {
   "cell_type": "code",
   "execution_count": 1,
   "id": "a361c1bb",
   "metadata": {},
   "outputs": [
    {
     "name": "stdout",
     "output_type": "stream",
     "text": [
      "49\n"
     ]
    }
   ],
   "source": [
    "6. #Calculate square\n",
    "\n",
    "square = lambda x: x ** 2\n",
    "print(square(7))  "
   ]
  },
  {
   "cell_type": "code",
   "execution_count": 2,
   "id": "7d8a0933",
   "metadata": {},
   "outputs": [
    {
     "name": "stdout",
     "output_type": "stream",
     "text": [
      "19\n"
     ]
    }
   ],
   "source": [
    "7. #Find the maximum value in a list of integers\n",
    "\n",
    "max_value = lambda lst: max(lst)\n",
    "print(max_value([13, 7, 2, 19]))"
   ]
  },
  {
   "cell_type": "code",
   "execution_count": 3,
   "id": "0aadf5c8",
   "metadata": {},
   "outputs": [
    {
     "name": "stdout",
     "output_type": "stream",
     "text": [
      "[4, 44, 0]\n"
     ]
    }
   ],
   "source": [
    "8. #Filter even numbers\n",
    "\n",
    "numbers = [4, 7, 44, 17, 37, 0]\n",
    "evens = list(filter(lambda x: x % 2 == 0, numbers))\n",
    "print(evens)"
   ]
  },
  {
   "cell_type": "code",
   "execution_count": 4,
   "id": "b46501d1",
   "metadata": {},
   "outputs": [
    {
     "name": "stdout",
     "output_type": "stream",
     "text": [
      "['cse', 'python', 'woxsen']\n"
     ]
    }
   ],
   "source": [
    "9. #sort strings by length\n",
    "\n",
    "strings = [\"python\", \"woxsen\", \"cse\"]\n",
    "sorted_strings = sorted(strings, key=lambda s: len(s))\n",
    "print(sorted_strings)\n"
   ]
  },
  {
   "cell_type": "code",
   "execution_count": 5,
   "id": "8e79ad97",
   "metadata": {},
   "outputs": [
    {
     "name": "stdout",
     "output_type": "stream",
     "text": [
      "[333]\n"
     ]
    }
   ],
   "source": [
    "10. #common element in two lists\n",
    "\n",
    "common_elements = lambda lst1, lst2: list(filter(lambda x: x in lst2, lst1))\n",
    "print(common_elements([1, 22, 333], [333, 44, 5]))\n"
   ]
  },
  {
   "cell_type": "code",
   "execution_count": 6,
   "id": "c571e754",
   "metadata": {},
   "outputs": [
    {
     "name": "stdout",
     "output_type": "stream",
     "text": [
      "5040\n"
     ]
    }
   ],
   "source": [
    "11. #recursive function to calculate factorial\n",
    "\n",
    "def factorial(n):\n",
    "    if n == 0 or n == 1:\n",
    "        return 1\n",
    "    return n * factorial(n - 1)\n",
    "\n",
    "print(factorial(7))\n"
   ]
  },
  {
   "cell_type": "code",
   "execution_count": 7,
   "id": "7bad2024",
   "metadata": {},
   "outputs": [
    {
     "name": "stdout",
     "output_type": "stream",
     "text": [
      "34\n"
     ]
    }
   ],
   "source": [
    "12. #nth Fibonacci series\n",
    "\n",
    "def fibonacci(n):\n",
    "    if n <= 1:\n",
    "        return n\n",
    "    return fibonacci(n - 1) + fibonacci(n - 2)\n",
    "\n",
    "print(fibonacci(9))\n"
   ]
  },
  {
   "cell_type": "code",
   "execution_count": 8,
   "id": "0468be8c",
   "metadata": {},
   "outputs": [
    {
     "name": "stdout",
     "output_type": "stream",
     "text": [
      "10\n"
     ]
    }
   ],
   "source": [
    "13. #sum of all elements in list\n",
    "\n",
    "def sum_list(list):\n",
    "    if not list:\n",
    "        return 0\n",
    "    return list[0] + sum_list(list[1:])\n",
    "\n",
    "print(sum_list([1, 2, 3, 4]))\n"
   ]
  },
  {
   "cell_type": "code",
   "execution_count": 9,
   "id": "4036c1d8",
   "metadata": {},
   "outputs": [
    {
     "name": "stdout",
     "output_type": "stream",
     "text": [
      "True\n",
      "False\n"
     ]
    }
   ],
   "source": [
    "14. #palindrome\n",
    "\n",
    "def is_palindrome(s):\n",
    "    if len(s) <= 1:\n",
    "        return True\n",
    "    if s[0] != s[-1]:\n",
    "        return False\n",
    "    return is_palindrome(s[1:-1])\n",
    "\n",
    "print(is_palindrome(\"madam\"))\n",
    "print(is_palindrome(\"woxsen\"))\n"
   ]
  },
  {
   "cell_type": "code",
   "execution_count": 10,
   "id": "570e6f2e",
   "metadata": {},
   "outputs": [
    {
     "name": "stdout",
     "output_type": "stream",
     "text": [
      "2\n"
     ]
    }
   ],
   "source": [
    "15. \n",
    "\n",
    "def gcd(a, b):\n",
    "    if b == 0:\n",
    "        return a\n",
    "    return gcd(b, a % b)\n",
    "\n",
    "print(gcd(14, 4))\n"
   ]
  }
 ],
 "metadata": {
  "kernelspec": {
   "display_name": "Python 3 (ipykernel)",
   "language": "python",
   "name": "python3"
  },
  "language_info": {
   "codemirror_mode": {
    "name": "ipython",
    "version": 3
   },
   "file_extension": ".py",
   "mimetype": "text/x-python",
   "name": "python",
   "nbconvert_exporter": "python",
   "pygments_lexer": "ipython3",
   "version": "3.11.4"
  }
 },
 "nbformat": 4,
 "nbformat_minor": 5
}
