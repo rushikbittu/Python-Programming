{
 "cells": [
  {
   "cell_type": "markdown",
   "id": "b72897f1",
   "metadata": {},
   "source": [
    "### Name: Rushik patel\n",
    "### UGID: 21WU0101046\n",
    "### Assignment - 1"
   ]
  },
  {
   "cell_type": "markdown",
   "id": "3dfc3276",
   "metadata": {},
   "source": [
    "Questions:"
   ]
  },
  {
   "cell_type": "markdown",
   "id": "bc30c7ac",
   "metadata": {},
   "source": [
    " 1. In the below elements which of them are values or an expression? eg:- values can be integer or string and expressions will be mathematical operators.\n",
    "\n",
    "    *\n",
    "\n",
    "    'hello'\n",
    "\n",
    "    -87.8\n",
    "\n",
    "    -\n",
    "\n",
    "    /\n",
    "\n",
    "    +\n",
    "\n",
    "    6\n",
    "\n",
    "\n",
    " 2. What is the difference between string and variable?\n",
    "\n",
    " 3. Describe three different data types.\n",
    "\n",
    " 4. What is an expression made up of? What do all expressions do?\n",
    "\n",
    " 5. This assignment statements, like spam = 10. What is the difference between an expression and a statement?\n",
    "\n",
    " 6. After running the following code, what does the variable bacon contain?\n",
    "\n",
    "    bacon = 22\n",
    "\n",
    "    bacon + 1\n",
    "\n",
    "\n",
    " 7. What should the values of the following two terms be?\n",
    "\n",
    "    'spam' + 'spamspam'\n",
    "\n",
    "    'spam' * 3\n",
    "\n",
    "\n",
    " 8. Why is eggs a valid variable name while 100 is invalid?\n",
    "\n",
    " 9. What three functions can be used to get the integer, floating-point number, or string version of a value?\n",
    "\n",
    " 10. Why does this expression cause an error? How can you fix it?\n",
    "\n",
    "     'I have eaten ' + 99 + ' burritos.'"
   ]
  },
  {
   "cell_type": "markdown",
   "id": "f3cb902f",
   "metadata": {},
   "source": [
    "Solutions:"
   ]
  },
  {
   "cell_type": "raw",
   "id": "98978a29",
   "metadata": {},
   "source": [
    "1.\n",
    "\n",
    "*       == expression\n",
    "\n",
    "'hello' == value\n",
    "\n",
    "-87.8   == value\n",
    "\n",
    "-       == expression\n",
    "\n",
    "/       == expression\n",
    "\n",
    "+       == expression\n",
    "\n",
    "6       == value"
   ]
  },
  {
   "cell_type": "raw",
   "id": "e32281ed",
   "metadata": {},
   "source": [
    "2.\n",
    "\n",
    "Difference between string and a variable:\n",
    "    \n",
    "String:\n",
    "- String is a sequence of character data.\n",
    "- They are enclosed within '' or \"\" or ''' '''\n",
    "- 'str' function is used to convert data into string\n",
    "- In python, the input() function converts the inputted user data into string by default.\n",
    "- Ex: 'Python programming'\n",
    "\n",
    "Variable:\n",
    "- Variables are identifiers given to store a value.\n",
    "- They must start with a letter or an underscore, but now with a number\n",
    "- They are case sensitive and cannot have the same name as keywords\n",
    "- You can simply create a variable by assigning a value to it using the assignment operator (=).\n",
    "- Ex: name = 'manasa'\n",
    "string 'manasa' is storedin the variable called 'name'.\n"
   ]
  },
  {
   "cell_type": "raw",
   "id": "370442a8",
   "metadata": {},
   "source": [
    "3.\n",
    "\n",
    "Data Types:\n",
    "i) Integer\n",
    "Integers are whole numbers without any fractional component or a decimal number.\n",
    "They can be either positive or negative.\n",
    "Ex: a = 15\n",
    "\n",
    "ii) Float\n",
    "Float represents real numbers and are written with a decimal point.\n",
    "Ex: b = 12.3\n",
    "\n",
    "iii) String\n",
    "Strings are a sequence of characters and are enclosed and written within quotes ('', \"\", ''' ''').\n",
    "Ex: a = 'python'"
   ]
  },
  {
   "cell_type": "raw",
   "id": "9893e397",
   "metadata": {},
   "source": [
    "4. \n",
    "\n",
    "- An expression is formed combining values, variables and operators. \n",
    "- They contain a set of operands and operators that return a value.\n",
    "- Ex: \n",
    "a= 3\n",
    "b= 5\n",
    "c= 2\n",
    "ans = a*b-c \n",
    "\n",
    "output : 13\n",
    "\n",
    "here, a*b-c is an expression that returned the value 13."
   ]
  },
  {
   "cell_type": "raw",
   "id": "6f1ddcbf",
   "metadata": {},
   "source": [
    "5.\n",
    "\n",
    "- Expressions are a combination that returns a value while statements do not necessarily return a value. \n",
    "- Expressions can be assigned while statements can only be declared.\n",
    "- Statements is a line of code that perform a specific action.\n",
    " Ex: spam = 10, is a statement where it just returns a value 10 "
   ]
  },
  {
   "cell_type": "raw",
   "id": "3bc61608",
   "metadata": {},
   "source": [
    "6.\n",
    "\n",
    "bacon = 22\n",
    "bacon + 1\n",
    "\n",
    "The bacon variable initially contains the value 22 and 1 gets added to it.\n",
    "After running the above code, the code returns the value 23.\n",
    "Now, The value that bacon contains is still 22"
   ]
  },
  {
   "cell_type": "raw",
   "id": "aafe013b",
   "metadata": {},
   "source": [
    "7.\n",
    "\n",
    "'spam' + 'spamspam' >>> spamspamspam\n",
    "'spam' * 3          >>> spamspamspam\n"
   ]
  },
  {
   "cell_type": "raw",
   "id": "b9ddf830",
   "metadata": {},
   "source": [
    "8.\n",
    "\n",
    "eggs: It is valid variable name because it starts with an integer\n",
    "100: is invalid because it starts with a digit but a variable can only start with a letter or underscore not a digit."
   ]
  },
  {
   "cell_type": "raw",
   "id": "9d578a69",
   "metadata": {},
   "source": [
    "9.\n",
    "\n",
    "i) int() function can be used to get the integer version of a value.\n",
    "ex: int(12.0) == 12\n",
    "\n",
    "ii) float() function can be used to get the floating version of a value.\n",
    "ex: float(16) == 16.0\n",
    "\n",
    "iii) str() function can be used to get the string version of a value.\n",
    "ex: str(20) == '20'"
   ]
  },
  {
   "cell_type": "raw",
   "id": "25090a95",
   "metadata": {},
   "source": [
    "10.\n",
    "\n",
    "'I have eaten ' + 99 + ' burritos.'\n",
    "\n",
    "This will produce an error because string can only be concatenated with aother string and not an integer.\n",
    "We can fix it by converting the value 99 into string.\n",
    "\n",
    "'I have eaten ' + '99'+ ' burritos.' >>> 'I have eaten 99 burritos.'"
   ]
  }
 ],
 "metadata": {
  "kernelspec": {
   "display_name": "Python 3 (ipykernel)",
   "language": "python",
   "name": "python3"
  },
  "language_info": {
   "codemirror_mode": {
    "name": "ipython",
    "version": 3
   },
   "file_extension": ".py",
   "mimetype": "text/x-python",
   "name": "python",
   "nbconvert_exporter": "python",
   "pygments_lexer": "ipython3",
   "version": "3.11.4"
  }
 },
 "nbformat": 4,
 "nbformat_minor": 5
}
