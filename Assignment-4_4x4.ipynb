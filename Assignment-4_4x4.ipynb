{
 "cells": [
  {
   "cell_type": "markdown",
   "id": "2b021434",
   "metadata": {},
   "source": [
    "### Name: Rushik patel\n",
    "### UGID: 21WU0101046\n",
    "### Assignment - 4"
   ]
  },
  {
   "cell_type": "raw",
   "id": "eec99820",
   "metadata": {},
   "source": [
    "Questions:"
   ]
  },
  {
   "cell_type": "markdown",
   "id": "9d9df219",
   "metadata": {},
   "source": [
    "1. What exactly is []?\n",
    "\n",
    "2. In a list of values stored in a variable called spam, how would you assign the value 'hello' as the third value? (Assume [2, 4, 6, 8, 10] are in spam.)\n",
    "\n",
    "Let's pretend the spam includes the list ['a', 'b', 'c', 'd'] for the next three queries.\n",
    "\n",
    "3. What is the value of spam[int(int('3' * 2) / 11)]?\n",
    "\n",
    "4. What is the value of spam[-1]?\n",
    "\n",
    "5. What is the value of spam[:2]?\n",
    "\n",
    "Let's pretend bacon has the list [3.14, 'cat,' 11, 'cat,' True] for the next three questions.\n",
    "\n",
    "6. What is the value of bacon.index('cat')?\n",
    "\n",
    "7. How does bacon.append(99) change the look of the list value in bacon?\n",
    "\n",
    "8. How does bacon.remove('cat') change the look of the list in bacon?\n",
    "\n",
    "9. What are the list concatenation and list replication operators?\n",
    "\n",
    "10. What is difference between the list methods append() and insert()?\n",
    "\n",
    "11. What are the two methods for removing items from a list?\n",
    "\n",
    "12. Describe how list values and string values are identical.\n",
    "\n",
    "13. What's the difference between tuples and lists?\n",
    "\n",
    "14. How do you type a tuple value that only contains the integer 42?\n",
    "\n",
    "15. How do you get a list value's tuple form? How do you get a tuple value's list form?\n",
    "\n",
    "16. Variables that \"contain\" list values are not necessarily lists themselves. Instead, what do they contain?\n",
    "\n",
    "17. How do you distinguish between copy.copy() and copy.deepcopy()?"
   ]
  },
  {
   "cell_type": "raw",
   "id": "9b7f4024",
   "metadata": {},
   "source": [
    "Solutions:"
   ]
  },
  {
   "cell_type": "raw",
   "id": "1c86aa1a",
   "metadata": {},
   "source": [
    "1.\n",
    "\n",
    "[] represents an empty list. \n",
    "ex: l=[]"
   ]
  },
  {
   "cell_type": "code",
   "execution_count": 1,
   "id": "becbf8e2",
   "metadata": {},
   "outputs": [
    {
     "data": {
      "text/plain": [
       "[2, 4, 'hello', 8, 10]"
      ]
     },
     "execution_count": 1,
     "metadata": {},
     "output_type": "execute_result"
    }
   ],
   "source": [
    "2.\n",
    "\n",
    "spam = [2, 4, 6, 8, 10]\n",
    "spam[2] = 'hello'\n",
    "spam"
   ]
  },
  {
   "cell_type": "code",
   "execution_count": 2,
   "id": "39fdbf3a",
   "metadata": {},
   "outputs": [
    {
     "data": {
      "text/plain": [
       "'d'"
      ]
     },
     "execution_count": 2,
     "metadata": {},
     "output_type": "execute_result"
    }
   ],
   "source": [
    "3.\n",
    "\n",
    "spam =['a', 'b', 'c', 'd']\n",
    "spam[int(int('3' * 2) / 11)] #returns spam[3]"
   ]
  },
  {
   "cell_type": "code",
   "execution_count": 3,
   "id": "27fed0a2",
   "metadata": {},
   "outputs": [
    {
     "data": {
      "text/plain": [
       "'d'"
      ]
     },
     "execution_count": 3,
     "metadata": {},
     "output_type": "execute_result"
    }
   ],
   "source": [
    "4.\n",
    "\n",
    "spam = ['a', 'b','c','d']\n",
    "spam[-1]"
   ]
  },
  {
   "cell_type": "code",
   "execution_count": 4,
   "id": "142a8670",
   "metadata": {},
   "outputs": [
    {
     "data": {
      "text/plain": [
       "['a', 'b']"
      ]
     },
     "execution_count": 4,
     "metadata": {},
     "output_type": "execute_result"
    }
   ],
   "source": [
    "5.\n",
    "\n",
    "spam = ['a', 'b','c','d']\n",
    "spam[:2]"
   ]
  },
  {
   "cell_type": "code",
   "execution_count": 5,
   "id": "55292ad6",
   "metadata": {},
   "outputs": [
    {
     "data": {
      "text/plain": [
       "1"
      ]
     },
     "execution_count": 5,
     "metadata": {},
     "output_type": "execute_result"
    }
   ],
   "source": [
    "6.\n",
    "\n",
    "bacon = [3.14, 'cat', 11, 'cat', True]\n",
    "bacon.index('cat') #returns first occurence of cat"
   ]
  },
  {
   "cell_type": "code",
   "execution_count": 6,
   "id": "44b5022b",
   "metadata": {},
   "outputs": [
    {
     "data": {
      "text/plain": [
       "[3.14, 'cat', 11, 'cat', True, 99]"
      ]
     },
     "execution_count": 6,
     "metadata": {},
     "output_type": "execute_result"
    }
   ],
   "source": [
    "7.\n",
    "\n",
    "bacon = [3.14, 'cat', 11, 'cat', True]\n",
    "bacon.append(99) # adds 99 at the end of the list\n",
    "bacon"
   ]
  },
  {
   "cell_type": "code",
   "execution_count": 7,
   "id": "a036a2ba",
   "metadata": {},
   "outputs": [
    {
     "data": {
      "text/plain": [
       "[3.14, 11, 'cat', True]"
      ]
     },
     "execution_count": 7,
     "metadata": {},
     "output_type": "execute_result"
    }
   ],
   "source": [
    "8.\n",
    "\n",
    "bacon = [3.14, 'cat', 11, 'cat', True]\n",
    "bacon.remove('cat') \n",
    "bacon"
   ]
  },
  {
   "cell_type": "code",
   "execution_count": 8,
   "id": "40f34ac2",
   "metadata": {},
   "outputs": [
    {
     "name": "stdout",
     "output_type": "stream",
     "text": [
      "[1, 2, 3, 4, 5, 6]\n",
      "[1, 2, 3, 1, 2, 3]\n"
     ]
    }
   ],
   "source": [
    "9.\n",
    "\n",
    "# List concatentaion operator: +\n",
    "# List replication operator: *\n",
    "    \n",
    "l1=[1, 2, 3]\n",
    "l2=[4, 5, 6]\n",
    "print(l1+l2)\n",
    "print(l1*2)"
   ]
  },
  {
   "cell_type": "code",
   "execution_count": 9,
   "id": "b8e1ac1b",
   "metadata": {},
   "outputs": [
    {
     "name": "stdout",
     "output_type": "stream",
     "text": [
      "[1, 2, 3, 99]\n",
      "[1, 2, 'hello', 3, 99]\n"
     ]
    }
   ],
   "source": [
    "10. \n",
    "\n",
    "# append(): Appends object to the end of the list\n",
    "# insert(): Insert object before index\n",
    "    \n",
    "l1=[1, 2, 3]\n",
    "l1.append(99)\n",
    "print(l1)\n",
    "l1.insert(2,'hello')\n",
    "print(l1)"
   ]
  },
  {
   "cell_type": "code",
   "execution_count": 10,
   "id": "6a7b01bd",
   "metadata": {},
   "outputs": [
    {
     "name": "stdout",
     "output_type": "stream",
     "text": [
      "[2, 4, 8]\n",
      "[2, 4]\n"
     ]
    }
   ],
   "source": [
    "11.\n",
    "\n",
    "# remove(item) and pop(item) are two methods to remove items from the list.\n",
    "\n",
    "a = [2, 4, 6, 8]\n",
    "a.remove(6)  # remove the first occurence of the value from list\n",
    "print(a)\n",
    "a.pop()   #remove items at the index position, by default removes last item\n",
    "print(a)"
   ]
  },
  {
   "cell_type": "raw",
   "id": "3d681199",
   "metadata": {},
   "source": [
    "12.\n",
    "\n",
    "- Both have indexes and slices\n",
    "- Can be used in for loops\n",
    "- Both lists and strings can be passed to len()\n",
    "- Can be concatenated or replicated\n",
    "- Can be used with the in and not in operators\n",
    "- Can access individual elements in both lists and strings using their index position within the sequence"
   ]
  },
  {
   "cell_type": "raw",
   "id": "57179368",
   "metadata": {},
   "source": [
    "13.\n",
    "\n",
    "Lists: Mutable as values can be changed, added or removed. Represented using '[]'.\n",
    "Tuples: Immutable as values cannot be changed. Represented using '()'."
   ]
  },
  {
   "cell_type": "raw",
   "id": "21310add",
   "metadata": {},
   "source": [
    "14.\n",
    "\n",
    "tuple = (42,)"
   ]
  },
  {
   "cell_type": "code",
   "execution_count": 11,
   "id": "b93c81e8",
   "metadata": {},
   "outputs": [
    {
     "name": "stdout",
     "output_type": "stream",
     "text": [
      "(1, 2, 3)\n",
      "[2, 4, 6]\n"
     ]
    }
   ],
   "source": [
    "15.\n",
    "\n",
    "# List value's tuple form:\n",
    "l1 = [1,2,3]\n",
    "l = tuple(l1)\n",
    "print(l)\n",
    "\n",
    "# Tuple value's ist form:\n",
    "t1 = (2,4,6)\n",
    "t = list(t1)\n",
    "print(t)"
   ]
  },
  {
   "cell_type": "raw",
   "id": "5a684760",
   "metadata": {},
   "source": [
    "16.\n",
    "\n",
    "They contain the references to list values."
   ]
  },
  {
   "cell_type": "raw",
   "id": "bf0da8dd",
   "metadata": {},
   "source": [
    "17.\n",
    "\n",
    "copy.copy() function: It will do a shallow copy of a list.\n",
    "copy.deepcopy() function: It will do a deep copy of a list. \n",
    "Also, copy.deepcopy() will duplicate any lists inside the list."
   ]
  }
 ],
 "metadata": {
  "kernelspec": {
   "display_name": "Python 3 (ipykernel)",
   "language": "python",
   "name": "python3"
  },
  "language_info": {
   "codemirror_mode": {
    "name": "ipython",
    "version": 3
   },
   "file_extension": ".py",
   "mimetype": "text/x-python",
   "name": "python",
   "nbconvert_exporter": "python",
   "pygments_lexer": "ipython3",
   "version": "3.11.4"
  }
 },
 "nbformat": 4,
 "nbformat_minor": 5
}
