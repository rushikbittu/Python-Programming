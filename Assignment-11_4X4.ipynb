{
 "cells": [
  {
   "cell_type": "markdown",
   "id": "5aa93a20",
   "metadata": {},
   "source": [
    "### Name: Rushik patel\n",
    "### UGID: 21WU0101046\n",
    "### Assignment - 11"
   ]
  },
  {
   "cell_type": "raw",
   "id": "175bdac5",
   "metadata": {},
   "source": [
    "Questions:"
   ]
  },
  {
   "cell_type": "markdown",
   "id": "a2bc57e1",
   "metadata": {},
   "source": [
    " 1. What is the role of the 'else' block in a try-except statement? Provide an example\n",
    " scenario where it would be useful.\n",
    " 2. Can a try-except block be nested inside another try-except block? Explain with an\n",
    " example.\n",
    " 3. How can you create a custom exception class in Python? Provide an example that\n",
    " demonstrates its usage.\n",
    " 4. What are some common exceptions that are built-in to Python?\n",
    " 5. What is logging in Python, and why is it important in software development?\n",
    " 6. Explain the purpose of log levels in Python logging and provide examples of when\n",
    " each log level would be appropriate.\n",
    " 7. What are log formatters in Python logging, and how can you customise the log\n",
    " message format using formatters?\n",
    " 8. How can you set up logging to capture log messages from multiple modules or\n",
    " classes in a Python application?\n",
    " 9. What is the difference between the logging and print statements in Python? When\n",
    " should you use logging over print statements in a real-world application?\n",
    " 10. Write a Python program that logs a message to a file named \"app.log\" with the\n",
    " following requirements:\n",
    " ● Thelogmessage should be \"Hello, World!\"\n",
    " ● Theloglevel should be set to \"INFO.\"\n",
    " ● Thelogfile should append new log entries without overwriting previous ones.\n",
    " 11. Create a Python program that logs an error message to the console and a file named\n",
    " \"errors.log\" if an exception occurs during the program's execution. The error\n",
    " message should include the exception type and a timestamp."
   ]
  },
  {
   "cell_type": "raw",
   "id": "2358ce7b",
   "metadata": {},
   "source": [
    "Solutions:"
   ]
  },
  {
   "cell_type": "code",
   "execution_count": 1,
   "id": "a69afdf0",
   "metadata": {},
   "outputs": [
    {
     "name": "stdout",
     "output_type": "stream",
     "text": [
      "Enter a number: 7\n",
      "Division successful: 1.4285714285714286\n"
     ]
    }
   ],
   "source": [
    "1.\n",
    "\n",
    "# The else block runs code that should execute only if no exceptions were raised in the try block. \n",
    "# It is useful for code that must execute when the try block is successful.\n",
    "\n",
    "# Example-\n",
    "\n",
    "try:\n",
    "    num = int(input(\"Enter a number: \"))\n",
    "    result = 10 / num\n",
    "except ZeroDivisionError:\n",
    "    print(\"Cannot divide by zero.\")\n",
    "except ValueError:\n",
    "    print(\"Invalid input!\")\n",
    "else:\n",
    "    print(f\"Division successful: {result}\")\n"
   ]
  },
  {
   "cell_type": "code",
   "execution_count": 2,
   "id": "f49dc197",
   "metadata": {},
   "outputs": [
    {
     "name": "stdout",
     "output_type": "stream",
     "text": [
      "Enter a number: 8\n",
      "Enter another number: 5\n"
     ]
    }
   ],
   "source": [
    "2.\n",
    "\n",
    "# -Yes, a try-except block be nested inside another try-except block. \n",
    "# -This is useful when handling different operations that might raise separate exceptions.\n",
    "\n",
    "# Example:\n",
    "    \n",
    "try:\n",
    "    outer_num = int(input(\"Enter a number: \"))\n",
    "    try:\n",
    "        inner_num = int(input(\"Enter another number: \"))\n",
    "        result = outer_num / inner_num\n",
    "    except ZeroDivisionError:\n",
    "        print(\"Cannot divide by zero in the inner block.\")\n",
    "except ValueError:\n",
    "    print(\"Invalid input in the outer block.\")\n"
   ]
  },
  {
   "cell_type": "code",
   "execution_count": 3,
   "id": "f871a965",
   "metadata": {},
   "outputs": [
    {
     "name": "stdout",
     "output_type": "stream",
     "text": [
      "Caught an error: This is a custom error!\n"
     ]
    }
   ],
   "source": [
    "3.\n",
    "\n",
    "# To create a custom exception, define a new class that inherits from Exception.\n",
    "\n",
    "# Example:\n",
    "\n",
    "class CustomError(Exception):\n",
    "    def __init__(self, message):\n",
    "        super().__init__(message)\n",
    "\n",
    "try:\n",
    "    raise CustomError(\"This is a custom error!\")\n",
    "except CustomError as e:\n",
    "    print(f\"Caught an error: {e}\")\n"
   ]
  },
  {
   "cell_type": "raw",
   "id": "5326cb4c",
   "metadata": {},
   "source": [
    "4. \n",
    "\n",
    "Common Built-in Exceptions in Python:\n",
    "    \n",
    "ValueError\n",
    "TypeError\n",
    "IndexError\n",
    "KeyError\n",
    "FileNotFoundError\n",
    "ZeroDivisionError\n",
    "ImportError\n",
    "AttributeError\n",
    "EOFError\n",
    "RuntimeError"
   ]
  },
  {
   "cell_type": "raw",
   "id": "534eaf8c",
   "metadata": {},
   "source": [
    "5.\n",
    "\n",
    "Logging is a mechanism for tracking events in a program during runtime. \n",
    "\n",
    "It is important in software development for:\n",
    "-Debugging and troubleshooting.\n",
    "-Monitoring software behavior in production.\n",
    "-Maintaining a record of program execution."
   ]
  },
  {
   "cell_type": "raw",
   "id": "a500c332",
   "metadata": {},
   "source": [
    "6. \n",
    "\n",
    "Purpose of Log Levels in Python Logging:\n",
    "Log levels indicate the severity of messages.\n",
    "DEBUG: Detailed diagnostic information.\n",
    "INFO: General information about program execution.\n",
    "WARNING: Indicates potential problems.\n",
    "ERROR: Indicates serious issues.\n",
    "CRITICAL: Indicates severe problems that might cause the program to crash.\n",
    "\n",
    "Examples:\n",
    "DEBUG: Function entry logs during development.\n",
    "INFO: User login events.\n",
    "WARNING: Deprecated feature usage.\n",
    "ERROR: Failed API calls.\n",
    "CRITICAL: System-wide failure (e.g., database down)."
   ]
  },
  {
   "cell_type": "code",
   "execution_count": 4,
   "id": "97229c19",
   "metadata": {},
   "outputs": [
    {
     "name": "stderr",
     "output_type": "stream",
     "text": [
      "2024-12-11 23:00:23,930 - INFO - This is an info message.\n"
     ]
    }
   ],
   "source": [
    "7.\n",
    "\n",
    "# Log formatters allow customization of log message formats, including timestamps, log levels, and messages\n",
    "\n",
    "# Example:\n",
    "    \n",
    "import logging\n",
    "\n",
    "logging.basicConfig(\n",
    "    format='%(asctime)s - %(levelname)s - %(message)s',\n",
    "    level=logging.INFO\n",
    ")\n",
    "logging.info(\"This is an info message.\")\n"
   ]
  },
  {
   "cell_type": "raw",
   "id": "64ad1387",
   "metadata": {},
   "source": [
    "8.\n",
    "\n",
    "Use a centralized logging configuration to capture logs from multiple modules."
   ]
  },
  {
   "cell_type": "code",
   "execution_count": 5,
   "id": "c7815576",
   "metadata": {},
   "outputs": [
    {
     "ename": "ModuleNotFoundError",
     "evalue": "No module named 'module1'",
     "output_type": "error",
     "traceback": [
      "\u001b[1;31m---------------------------------------------------------------------------\u001b[0m",
      "\u001b[1;31mModuleNotFoundError\u001b[0m                       Traceback (most recent call last)",
      "Cell \u001b[1;32mIn[5], line 4\u001b[0m\n\u001b[0;32m      1\u001b[0m \u001b[38;5;66;03m# main.py\u001b[39;00m\n\u001b[0;32m      3\u001b[0m \u001b[38;5;28;01mimport\u001b[39;00m \u001b[38;5;21;01mlogging\u001b[39;00m\n\u001b[1;32m----> 4\u001b[0m \u001b[38;5;28;01mimport\u001b[39;00m \u001b[38;5;21;01mmodule1\u001b[39;00m\n\u001b[0;32m      6\u001b[0m logging\u001b[38;5;241m.\u001b[39mbasicConfig(\n\u001b[0;32m      7\u001b[0m     filename\u001b[38;5;241m=\u001b[39m\u001b[38;5;124m\"\u001b[39m\u001b[38;5;124mapp.log\u001b[39m\u001b[38;5;124m\"\u001b[39m,\n\u001b[0;32m      8\u001b[0m     \u001b[38;5;28mformat\u001b[39m\u001b[38;5;241m=\u001b[39m\u001b[38;5;124m\"\u001b[39m\u001b[38;5;132;01m%(asctime)s\u001b[39;00m\u001b[38;5;124m - \u001b[39m\u001b[38;5;132;01m%(levelname)s\u001b[39;00m\u001b[38;5;124m - \u001b[39m\u001b[38;5;132;01m%(message)s\u001b[39;00m\u001b[38;5;124m\"\u001b[39m,\n\u001b[0;32m      9\u001b[0m     level\u001b[38;5;241m=\u001b[39mlogging\u001b[38;5;241m.\u001b[39mDEBUG\n\u001b[0;32m     10\u001b[0m )\n\u001b[0;32m     11\u001b[0m logging\u001b[38;5;241m.\u001b[39minfo(\u001b[38;5;124m\"\u001b[39m\u001b[38;5;124mMain module log message.\u001b[39m\u001b[38;5;124m\"\u001b[39m)\n",
      "\u001b[1;31mModuleNotFoundError\u001b[0m: No module named 'module1'"
     ]
    }
   ],
   "source": [
    "# main.py\n",
    "\n",
    "import logging\n",
    "import module1\n",
    "\n",
    "logging.basicConfig(\n",
    "    filename=\"app.log\",\n",
    "    format=\"%(asctime)s - %(levelname)s - %(message)s\",\n",
    "    level=logging.DEBUG\n",
    ")\n",
    "logging.info(\"Main module log message.\")\n",
    "module1.log_something()\n",
    "\n",
    "\n",
    "#module1\n",
    "\n",
    "import logging\n",
    "\n",
    "def log_something():\n",
    "    logging.debug(\"Module1 debug message.\")\n"
   ]
  },
  {
   "cell_type": "raw",
   "id": "0e6d4725",
   "metadata": {},
   "source": [
    "9.\n",
    "\n",
    "Difference:\n",
    "print:\n",
    "-Meant for development/debugging.\n",
    "-Output is displayed on the console only.\n",
    "-Does not support log levels.\n",
    "logging:\n",
    "-Used for long-term tracking.\n",
    "-Logs can be saved to files or external systems.\n",
    "-Supports log levels and customization.\n",
    "\n",
    "When to Use: \n",
    "Use logging in production environments for robust error tracking and monitoring."
   ]
  },
  {
   "cell_type": "code",
   "execution_count": 6,
   "id": "91c9af8b",
   "metadata": {},
   "outputs": [
    {
     "name": "stderr",
     "output_type": "stream",
     "text": [
      "2024-12-11 23:00:32,146 - INFO - Hello, World!\n"
     ]
    }
   ],
   "source": [
    "10.\n",
    "\n",
    "import logging\n",
    "\n",
    "logging.basicConfig(\n",
    "    filename=\"app.log\",\n",
    "    level=logging.INFO,\n",
    "    format=\"%(asctime)s - %(levelname)s - %(message)s\",\n",
    "    filemode=\"a\"\n",
    ")\n",
    "\n",
    "logging.info(\"Hello, World!\")\n"
   ]
  },
  {
   "cell_type": "code",
   "execution_count": 1,
   "id": "f0b05b2d",
   "metadata": {},
   "outputs": [
    {
     "name": "stdout",
     "output_type": "stream",
     "text": [
      "Enter a number: 0\n",
      "An error occurred: ZeroDivisionError - division by zero\n"
     ]
    }
   ],
   "source": [
    "11.\n",
    "\n",
    "import logging\n",
    "import datetime\n",
    "\n",
    "logging.basicConfig(\n",
    "    filename=\"errors.log\",\n",
    "    level=logging.ERROR,\n",
    "    format=\"%(asctime)s - %(levelname)s - %(message)s\",\n",
    "    filemode=\"a\"\n",
    ")\n",
    "\n",
    "try:\n",
    "    num = int(input(\"Enter a number: \"))\n",
    "    result = 10 / num\n",
    "except Exception as e:\n",
    "    error_message = f\"An error occurred: {type(e).__name__} - {e}\"\n",
    "    print(error_message)\n",
    "    logging.error(error_message)\n"
   ]
  },
  {
   "cell_type": "code",
   "execution_count": null,
   "id": "addf79de",
   "metadata": {},
   "outputs": [],
   "source": []
  }
 ],
 "metadata": {
  "kernelspec": {
   "display_name": "Python 3 (ipykernel)",
   "language": "python",
   "name": "python3"
  },
  "language_info": {
   "codemirror_mode": {
    "name": "ipython",
    "version": 3
   },
   "file_extension": ".py",
   "mimetype": "text/x-python",
   "name": "python",
   "nbconvert_exporter": "python",
   "pygments_lexer": "ipython3",
   "version": "3.11.4"
  }
 },
 "nbformat": 4,
 "nbformat_minor": 5
}
