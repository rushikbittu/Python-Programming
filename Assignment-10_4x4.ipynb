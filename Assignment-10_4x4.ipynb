{
 "cells": [
  {
   "cell_type": "markdown",
   "id": "55ec33d3",
   "metadata": {},
   "source": [
    "### Name: Rushik patel\n",
    "### UGID: 21WU0101046\n",
    "### Assignment - 10"
   ]
  },
  {
   "cell_type": "raw",
   "id": "3145e70c",
   "metadata": {},
   "source": [
    "Questions:"
   ]
  },
  {
   "cell_type": "markdown",
   "id": "8fe90c38",
   "metadata": {},
   "source": [
    " 1. What is the role of try and exception block?\n",
    " 2. What is the syntax for a basic try-except block?\n",
    " 3. What happens if an exception occurs inside a try block and there is no matching\n",
    " except block?\n",
    " 4. What is the difference between using a bare except block and specifying a specific\n",
    " exception type?\n",
    " 5. Canyou have nested try-except blocks in Python? If yes, then give an example.\n",
    " 6. Canweuse multiple exception blocks, if yes then give an example.\n",
    " 7. Write the reason due to which following errors are raised:\n",
    " a. EOFError\n",
    " b. FloatingPointError\n",
    " c. IndexError\n",
    " d. MemoryError\n",
    " e. OverflowError\n",
    " f.\n",
    " TabError\n",
    " g. ValueError\n",
    " 8. Write code for the following given scenario and add try-exception block to it.\n",
    " a. Program to divide two numbers\n",
    " b. Program to convert a string to an integer\n",
    " c. Program to access an element in a list\n",
    " d. Program to handle a specific exception\n",
    " e. Program to handle any exception"
   ]
  },
  {
   "cell_type": "raw",
   "id": "0b6be53d",
   "metadata": {},
   "source": [
    "Solutions:"
   ]
  },
  {
   "cell_type": "raw",
   "id": "d6786628",
   "metadata": {},
   "source": [
    "1. \n",
    "\n",
    "Role of try and except Block:\n",
    "The try block allows you to write code that may raise exceptions, and the except block catches and handles those exceptions to prevent the program from crashing."
   ]
  },
  {
   "cell_type": "code",
   "execution_count": 8,
   "id": "c9a9a1f7",
   "metadata": {},
   "outputs": [
    {
     "ename": "SyntaxError",
     "evalue": "invalid syntax (445749692.py, line 3)",
     "output_type": "error",
     "traceback": [
      "\u001b[1;36m  Cell \u001b[1;32mIn[8], line 3\u001b[1;36m\u001b[0m\n\u001b[1;33m    Sytax:\u001b[0m\n\u001b[1;37m          ^\u001b[0m\n\u001b[1;31mSyntaxError\u001b[0m\u001b[1;31m:\u001b[0m invalid syntax\n"
     ]
    }
   ],
   "source": [
    "2.\n",
    "\n",
    "Sytax:\n",
    "try:\n",
    "    # Code that may raise an exception\n",
    "    code()\n",
    "except ExceptionType:\n",
    "    # Code to handle the exception\n",
    "    handle_exception()"
   ]
  },
  {
   "cell_type": "raw",
   "id": "f8d25a04",
   "metadata": {},
   "source": [
    "3. \n",
    "\n",
    "If no matching except block exists for the exception, the program will terminate and display a traceback error message."
   ]
  },
  {
   "cell_type": "raw",
   "id": "65f720ad",
   "metadata": {},
   "source": [
    "4.\n",
    "\n",
    "Bare except block: \n",
    "Catches all exceptions, including system-level exceptions (ex: KeyboardInterrupt), which can make debugging harder.\n",
    "\n",
    "Specific Exception Type: \n",
    "Catches only the specified exception, making the code more predictable and easier to debug.\n",
    "\n",
    "Example-\n",
    "\n",
    "try:\n",
    "    1 / 0\n",
    "except ZeroDivisionError:  # Specific exception\n",
    "    print(\"Division by zero is not allowed.\")\n",
    "except:                    # Bare except\n",
    "    print(\"An unexpected error occurred.\")\n"
   ]
  },
  {
   "cell_type": "code",
   "execution_count": 9,
   "id": "5a258c45",
   "metadata": {},
   "outputs": [
    {
     "name": "stdout",
     "output_type": "stream",
     "text": [
      "Enter a number: 45\n",
      "0.2222222222222222\n"
     ]
    }
   ],
   "source": [
    "5.\n",
    "\n",
    "# Yes, Python allows nested try-except blocks.\n",
    "\n",
    "try:\n",
    "    num = int(input(\"Enter a number: \"))\n",
    "    try:\n",
    "        result = 10 / num\n",
    "        print(result)\n",
    "    except ZeroDivisionError:\n",
    "        print(\"Division by zero!\")\n",
    "except ValueError:\n",
    "    print(\"Invalid input!\")\n"
   ]
  },
  {
   "cell_type": "code",
   "execution_count": 10,
   "id": "4437123f",
   "metadata": {},
   "outputs": [
    {
     "name": "stdout",
     "output_type": "stream",
     "text": [
      "Enter a number: 67\n"
     ]
    }
   ],
   "source": [
    "6.\n",
    "\n",
    "# Yes, you can have multiple except blocks to handle different exceptions.\n",
    "\n",
    "try:\n",
    "    num = int(input(\"Enter a number: \"))\n",
    "    result = 10 / num\n",
    "except ValueError:\n",
    "    print(\"Invalid input!\")\n",
    "except ZeroDivisionError:\n",
    "    print(\"Division by zero!\")\n"
   ]
  },
  {
   "cell_type": "raw",
   "id": "ae76f133",
   "metadata": {},
   "source": [
    "7. \n",
    "\n",
    "a) EOFError: Raised when the input() function hits an end-of-file condition.\n",
    "b) FloatingPointError: Raised when a floating-point operation fails.\n",
    "c) IndexError: Raised when trying to access an index that is out of bounds in a list.\n",
    "d) MemoryError: Raised when the program runs out of memory.\n",
    "e) OverflowError: Raised when a calculation exceeds the maximum limit for a numeric type.\n",
    "f) TabError: Raised when inconsistent use of tabs and spaces is detected in indentation.\n",
    "g) ValueError: Raised when a function receives an argument of the correct type but an inappropriate value."
   ]
  },
  {
   "cell_type": "code",
   "execution_count": 11,
   "id": "7fbe895c",
   "metadata": {},
   "outputs": [
    {
     "name": "stdout",
     "output_type": "stream",
     "text": [
      "Enter numerator: 54\n",
      "Enter denominator: 76\n",
      "Result: 0.7105263157894737\n"
     ]
    }
   ],
   "source": [
    "8. \n",
    "# a) Program to divide two numbers:\n",
    "\n",
    "try:\n",
    "    a = int(input(\"Enter numerator: \"))\n",
    "    b = int(input(\"Enter denominator: \"))\n",
    "    print(\"Result:\", a / b)\n",
    "except ZeroDivisionError:\n",
    "    print(\"Cannot divide by zero.\")\n",
    "except ValueError:\n",
    "    print(\"Invalid input!\")\n"
   ]
  },
  {
   "cell_type": "code",
   "execution_count": 12,
   "id": "6695c6ab",
   "metadata": {},
   "outputs": [
    {
     "name": "stdout",
     "output_type": "stream",
     "text": [
      "Enter a number: 78\n",
      "Converted number: 78\n"
     ]
    }
   ],
   "source": [
    "# b. Program to Convert a String to an Integer:\n",
    "\n",
    "try:\n",
    "    num = int(input(\"Enter a number: \"))\n",
    "    print(f\"Converted number: {num}\")\n",
    "except ValueError:\n",
    "    print(\"Invalid input! Please enter a valid integer.\")"
   ]
  },
  {
   "cell_type": "code",
   "execution_count": 13,
   "id": "55688352",
   "metadata": {},
   "outputs": [
    {
     "name": "stdout",
     "output_type": "stream",
     "text": [
      "Enter an index: 54\n",
      "Index out of bounds!\n"
     ]
    }
   ],
   "source": [
    "# c. Program to Access an Element in a List:\n",
    "\n",
    "try:\n",
    "    list = [11, 22, 33]\n",
    "    index = int(input(\"Enter an index: \"))\n",
    "    print(f\"Element at index {index}: {list[index]}\")\n",
    "except IndexError:\n",
    "    print(\"Index out of bounds!\")\n",
    "except ValueError:\n",
    "    print(\"Invalid input! Please enter an integer.\")"
   ]
  },
  {
   "cell_type": "code",
   "execution_count": 14,
   "id": "0a8ad527",
   "metadata": {},
   "outputs": [
    {
     "name": "stdout",
     "output_type": "stream",
     "text": [
      "The file does not exist.\n"
     ]
    }
   ],
   "source": [
    "# d. Program to Handle a Specific Exception:\n",
    "\n",
    "try:\n",
    "    file = open(\"example.txt\", \"r\")\n",
    "except FileNotFoundError:\n",
    "    print(\"The file does not exist.\")"
   ]
  },
  {
   "cell_type": "code",
   "execution_count": 15,
   "id": "0b084959",
   "metadata": {},
   "outputs": [
    {
     "name": "stdout",
     "output_type": "stream",
     "text": [
      "An error occurred: division by zero\n"
     ]
    }
   ],
   "source": [
    "# e. Program to Handle Any Exception:\n",
    "\n",
    "try:\n",
    "    a = 1 / 0\n",
    "except Exception as e:\n",
    "    print(f\"An error occurred: {e}\")"
   ]
  },
  {
   "cell_type": "code",
   "execution_count": null,
   "id": "365302df",
   "metadata": {},
   "outputs": [],
   "source": []
  }
 ],
 "metadata": {
  "kernelspec": {
   "display_name": "Python 3 (ipykernel)",
   "language": "python",
   "name": "python3"
  },
  "language_info": {
   "codemirror_mode": {
    "name": "ipython",
    "version": 3
   },
   "file_extension": ".py",
   "mimetype": "text/x-python",
   "name": "python",
   "nbconvert_exporter": "python",
   "pygments_lexer": "ipython3",
   "version": "3.11.4"
  }
 },
 "nbformat": 4,
 "nbformat_minor": 5
}
