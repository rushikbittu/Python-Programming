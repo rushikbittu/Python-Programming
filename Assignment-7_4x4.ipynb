{
 "cells": [
  {
   "cell_type": "markdown",
   "id": "fc5a190c",
   "metadata": {},
   "source": [
    "### Name: Rushik patel\n",
    "### UGID: 21WU0101046\n",
    "### Assignment - 7"
   ]
  },
  {
   "cell_type": "raw",
   "id": "dde70779",
   "metadata": {},
   "source": [
    "Questions:"
   ]
  },
  {
   "cell_type": "markdown",
   "id": "f758adce",
   "metadata": {},
   "source": [
    " 1. Explain what inheritance is in object-oriented programming and why it is used.\n",
    " 2. Discuss the concept of single inheritance and multiple inheritance, highlighting their\n",
    " differences and advantages.\n",
    " 3. Explain the terms \"base class\" and \"derived class\" in the context of inheritance.\n",
    " 4. What is the significance of the \"protected\" access modifier in inheritance? How does\n",
    " it differ from \"private\" and \"public\" modifiers?\n",
    " 5. What is the purpose of the \"super\" keyword in inheritance? Provide an example.\n",
    " 6. Create a base class called \"Vehicle\" with attributes like \"make\", \"model\", and \"year\".\n",
    " Then, create a derived class called \"Car\" that inherits from \"Vehicle\" and adds an\n",
    " attribute called \"fuel_type\". Implement appropriate methods in both classes.\n",
    " 7. Create a base class called \"Employee\" with attributes like \"name\" and \"salary.\"\n",
    " Derive two classes, \"Manager\" and \"Developer,\" from \"Employee.\" Add an additional\n",
    " attribute called \"department\" for the \"Manager\" class and \"programming_language\"\n",
    " for the \"Developer\" class.\n",
    " 8. Design a base class called \"Shape\" with attributes like \"colour\" and \"border_width.\"\n",
    " Create derived classes, \"Rectangle\" and \"Circle,\" that inherit from \"Shape\" and add\n",
    " specific attributes like \"length\" and \"width\" for the \"Rectangle\" class and \"radius\" for\n",
    " the \"Circle\" class.\n",
    " 9. Create a base class called \"Device\" with attributes like \"brand\" and \"model.\" Derive\n",
    " two classes, \"Phone\" and \"Tablet,\" from \"Device.\" Add specific attributes like\n",
    " \"screen_size\" for the \"Phone\" class and \"battery_capacity\" for the \"Tablet\" class.\n",
    " 10. Create a base class called \"BankAccount\" with attributes like \"account_number\" and\n",
    " \"balance.\" Derive two classes, \"SavingsAccount\" and \"CheckingAccount,\" from\n",
    " \"BankAccount.\" Add specific methods like \"calculate_interest\" for the\n",
    " \"SavingsAccount\" class and \"deduct_fees\" for the \"CheckingAccount\" class."
   ]
  },
  {
   "cell_type": "raw",
   "id": "756883de",
   "metadata": {},
   "source": [
    "Solutions:"
   ]
  },
  {
   "cell_type": "raw",
   "id": "cbcdc5b0",
   "metadata": {},
   "source": [
    "1.\n",
    "\n",
    "-Inheritance is an OOP principle where a child class inherits properties and behaviors from a parent class. \n",
    "-It promotes code reusability and hierarchy design.\n",
    "-Also promotes extensibility and maintainability by reducing duplication and enabling easy addition of new features."
   ]
  },
  {
   "cell_type": "raw",
   "id": "4861c1b4",
   "metadata": {},
   "source": [
    "2.\n",
    "\n",
    "Single Inheritance:\n",
    "-A child class inherits from one parent class.\n",
    "-Advantage: Simplicity, less ambiguity.\n",
    "-Ex: \n",
    " class Animal:\n",
    "    def eat(self):\n",
    "        print(\"Eating\")\n",
    " class Dog(Animal):\n",
    "    def bark(self):\n",
    "        print(\"Barking\")\n",
    "\n",
    "Multiple Inheritance:\n",
    "-A child class inherits from multiple parent classes.\n",
    "-Advantage: Combines features from multiple classes.\n",
    "-Ambiguity in case of conflicts is resolved via the Method Resolution Order (MRO) in Python.\n",
    "-Ex:\n",
    "class Flyer:\n",
    "    def fly(self):\n",
    "        print(\"Flying\")\n",
    "class Swimmer:\n",
    "    def swim(self):\n",
    "        print(\"Swimming\")\n",
    "class Duck(Flyer, Swimmer):\n",
    "    pass"
   ]
  },
  {
   "cell_type": "raw",
   "id": "fd802d66",
   "metadata": {},
   "source": [
    "3.\n",
    "\n",
    "Base Class: The class being inherited from (parent).\n",
    "Derived Class: The class inheriting attributes/methods (child).\n",
    "\n",
    "Ex:\n",
    "class Vehicle:  # Base Class\n",
    "    def start(self):\n",
    "        print(\"Vehicle started\")\n",
    "class Car(Vehicle):  # Derived Class\n",
    "    def drive(self):\n",
    "        print(\"Car driving\")\n"
   ]
  },
  {
   "cell_type": "raw",
   "id": "dff763d0",
   "metadata": {},
   "source": [
    "4.\n",
    "\n",
    "Access Modifiers:\n",
    "    \n",
    "Protected (_variable):\n",
    "-Accessible within the class and its derived classes.\n",
    "-Purpose: Allows controlled access to attributes for inheritance.\n",
    "\n",
    "Private (__variable):\n",
    "-Accessible only within the class, not in derived classes.\n",
    "-Purpose: Restricts access for encapsulation.\n",
    "\n",
    "Public (variable):\n",
    "-Accessible everywhere.\n",
    "-Purpose: Provides unrestricted access."
   ]
  },
  {
   "cell_type": "raw",
   "id": "5c7ba569",
   "metadata": {},
   "source": [
    "5.\n",
    "\n",
    "'super' keyword purpose: \n",
    "Refers to the parent class and is used to call its methods or constructors in the derived class.\n",
    "\n",
    "Example-\n",
    "class Parent:\n",
    "    def greet(self):\n",
    "        print(\"Hello from Parent\")\n",
    "class Child(Parent):\n",
    "    def greet(self):\n",
    "        super().greet()  # Calls the parent class's greet\n",
    "        print(\"Hello from Child\")\n",
    "\n",
    "Output-\n",
    "Hello from Parent  \n",
    "Hello from Child"
   ]
  },
  {
   "cell_type": "code",
   "execution_count": 1,
   "id": "5e62ed32",
   "metadata": {},
   "outputs": [
    {
     "name": "stdout",
     "output_type": "stream",
     "text": [
      "Vehicle Info: 2024 Benz Mercedez\n",
      "Fuel Type: Gasoline\n"
     ]
    }
   ],
   "source": [
    "6.\n",
    "\n",
    "class Vehicle:\n",
    "    def __init__(self, make, model, year):\n",
    "        self.make = make\n",
    "        self.model = model\n",
    "        self.year = year\n",
    "\n",
    "    def display_info(self):\n",
    "        print(f\"Vehicle Info: {self.year} {self.make} {self.model}\")\n",
    "\n",
    "class Car(Vehicle):\n",
    "    def __init__(self, make, model, year, fuel_type):\n",
    "        super().__init__(make, model, year)\n",
    "        self.fuel_type = fuel_type\n",
    "\n",
    "    def display_info(self):\n",
    "        super().display_info()\n",
    "        print(f\"Fuel Type: {self.fuel_type}\")\n",
    "\n",
    "car = Car(\"Benz\", \"Mercedez\", 2024, \"Gasoline\")\n",
    "car.display_info()\n"
   ]
  },
  {
   "cell_type": "code",
   "execution_count": 2,
   "id": "daa49e18",
   "metadata": {},
   "outputs": [
    {
     "name": "stdout",
     "output_type": "stream",
     "text": [
      "Employee Name: Ali, Salary: 80000\n",
      "Department: HR\n",
      "Employee Name: Mana, Salary: 75000\n",
      "Programming Language: Python\n"
     ]
    }
   ],
   "source": [
    "7.\n",
    "\n",
    "class Employee:\n",
    "    def __init__(self, name, salary):\n",
    "        self.name = name\n",
    "        self.salary = salary\n",
    "\n",
    "    def display_info(self):\n",
    "        print(f\"Employee Name: {self.name}, Salary: {self.salary}\")\n",
    "\n",
    "class Manager(Employee):\n",
    "    def __init__(self, name, salary, department):\n",
    "        super().__init__(name, salary)\n",
    "        self.department = department\n",
    "\n",
    "    def display_info(self):\n",
    "        super().display_info()\n",
    "        print(f\"Department: {self.department}\")\n",
    "\n",
    "class Developer(Employee):\n",
    "    def __init__(self, name, salary, programming_language):\n",
    "        super().__init__(name, salary)\n",
    "        self.programming_language = programming_language\n",
    "\n",
    "    def display_info(self):\n",
    "        super().display_info()\n",
    "        print(f\"Programming Language: {self.programming_language}\")\n",
    "\n",
    "\n",
    "manager = Manager(\"Ali\", 80000, \"HR\")\n",
    "developer = Developer(\"Mana\", 75000, \"Python\")\n",
    "manager.display_info()\n",
    "developer.display_info()\n"
   ]
  },
  {
   "cell_type": "code",
   "execution_count": 3,
   "id": "53d66b5b",
   "metadata": {},
   "outputs": [
    {
     "name": "stdout",
     "output_type": "stream",
     "text": [
      "Shape Info: Colour: Black, Border Width: 2\n",
      "Rectangle Dimensions: Length: 5, Width: 3\n",
      "Shape Info: Colour: Purple, Border Width: 1\n",
      "Circle Radius: 7\n"
     ]
    }
   ],
   "source": [
    "8.\n",
    "\n",
    "class Shape:\n",
    "    def __init__(self, colour, border_width):\n",
    "        self.colour = colour\n",
    "        self.border_width = border_width\n",
    "\n",
    "    def display_info(self):\n",
    "        print(f\"Shape Info: Colour: {self.colour}, Border Width: {self.border_width}\")\n",
    "\n",
    "class Rectangle(Shape):\n",
    "    def __init__(self, colour, border_width, length, width):\n",
    "        super().__init__(colour, border_width)\n",
    "        self.length = length\n",
    "        self.width = width\n",
    "\n",
    "    def display_info(self):\n",
    "        super().display_info()\n",
    "        print(f\"Rectangle Dimensions: Length: {self.length}, Width: {self.width}\")\n",
    "\n",
    "class Circle(Shape):\n",
    "    def __init__(self, colour, border_width, radius):\n",
    "        super().__init__(colour, border_width)\n",
    "        self.radius = radius\n",
    "\n",
    "    def display_info(self):\n",
    "        super().display_info()\n",
    "        print(f\"Circle Radius: {self.radius}\")\n",
    "\n",
    "\n",
    "rectangle = Rectangle(\"Black\", 2, 5, 3)\n",
    "circle = Circle(\"Purple\", 1, 7)\n",
    "rectangle.display_info()\n",
    "circle.display_info()\n"
   ]
  },
  {
   "cell_type": "code",
   "execution_count": 4,
   "id": "a1a1594e",
   "metadata": {},
   "outputs": [
    {
     "name": "stdout",
     "output_type": "stream",
     "text": [
      "Device Info: Brand: Apple, Model: iPhone 15\n",
      "Screen Size: 6.1 inches\n",
      "Device Info: Brand: Oppo, Model: Reno 8T\n",
      "Battery Capacity: 10090 mAh\n"
     ]
    }
   ],
   "source": [
    "9.\n",
    "\n",
    "class Device:\n",
    "    def __init__(self, brand, model):\n",
    "        self.brand = brand\n",
    "        self.model = model\n",
    "\n",
    "    def display_info(self):\n",
    "        print(f\"Device Info: Brand: {self.brand}, Model: {self.model}\")\n",
    "\n",
    "class Phone(Device):\n",
    "    def __init__(self, brand, model, screen_size):\n",
    "        super().__init__(brand, model)\n",
    "        self.screen_size = screen_size\n",
    "\n",
    "    def display_info(self):\n",
    "        super().display_info()\n",
    "        print(f\"Screen Size: {self.screen_size} inches\")\n",
    "\n",
    "class Tablet(Device):\n",
    "    def __init__(self, brand, model, battery_capacity):\n",
    "        super().__init__(brand, model)\n",
    "        self.battery_capacity = battery_capacity\n",
    "\n",
    "    def display_info(self):\n",
    "        super().display_info()\n",
    "        print(f\"Battery Capacity: {self.battery_capacity} mAh\")\n",
    "\n",
    "phone = Phone(\"Apple\", \"iPhone 15\", 6.1)\n",
    "tablet = Tablet(\"Oppo\", \"Reno 8T\", 10090)\n",
    "phone.display_info()\n",
    "tablet.display_info()\n"
   ]
  },
  {
   "cell_type": "code",
   "execution_count": 5,
   "id": "8a5363e1",
   "metadata": {},
   "outputs": [
    {
     "name": "stdout",
     "output_type": "stream",
     "text": [
      "Account Number: 80108239, Balance: Rs.1000.00\n",
      "Interest Earned: Rs.50.00\n",
      "Account Number: 481167890, Balance: Rs.500.00\n",
      "Fee of Rs.10.00 deducted. New Balance: Rs.490.00\n"
     ]
    }
   ],
   "source": [
    "10.\n",
    "\n",
    "class BankAccount:\n",
    "    def __init__(self, account_number, balance):\n",
    "        self.account_number = account_number\n",
    "        self.balance = balance\n",
    "\n",
    "    def display_info(self):\n",
    "        print(f\"Account Number: {self.account_number}, Balance: Rs.{self.balance:.2f}\")\n",
    "\n",
    "class SavingsAccount(BankAccount):\n",
    "    def __init__(self, account_number, balance, interest_rate):\n",
    "        super().__init__(account_number, balance)\n",
    "        self.interest_rate = interest_rate\n",
    "\n",
    "    def calculate_interest(self):\n",
    "        interest = self.balance * (self.interest_rate / 100)\n",
    "        print(f\"Interest Earned: Rs.{interest:.2f}\")\n",
    "        return interest\n",
    "\n",
    "class CheckingAccount(BankAccount):\n",
    "    def __init__(self, account_number, balance, fee):\n",
    "        super().__init__(account_number, balance)\n",
    "        self.fee = fee\n",
    "\n",
    "    def deduct_fees(self):\n",
    "        if self.balance >= self.fee:\n",
    "            self.balance -= self.fee\n",
    "            print(f\"Fee of Rs.{self.fee:.2f} deducted. New Balance: Rs.{self.balance:.2f}\")\n",
    "        else:\n",
    "            print(\"Insufficient balance to deduct fees.\")\n",
    "\n",
    "savings = SavingsAccount(\"80108239\", 1000, 5)\n",
    "checking = CheckingAccount(\"481167890\", 500, 10)\n",
    "savings.display_info()\n",
    "savings.calculate_interest()\n",
    "checking.display_info()\n",
    "checking.deduct_fees()\n"
   ]
  }
 ],
 "metadata": {
  "kernelspec": {
   "display_name": "Python 3 (ipykernel)",
   "language": "python",
   "name": "python3"
  },
  "language_info": {
   "codemirror_mode": {
    "name": "ipython",
    "version": 3
   },
   "file_extension": ".py",
   "mimetype": "text/x-python",
   "name": "python",
   "nbconvert_exporter": "python",
   "pygments_lexer": "ipython3",
   "version": "3.11.4"
  }
 },
 "nbformat": 4,
 "nbformat_minor": 5
}
