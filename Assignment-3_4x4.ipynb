{
 "cells": [
  {
   "cell_type": "markdown",
   "id": "4733e987",
   "metadata": {},
   "source": [
    "### Name: Rushik patel\n",
    "### UGID: 21WU0101046\n",
    "### Assignment - 3"
   ]
  },
  {
   "cell_type": "raw",
   "id": "6d4f9efe",
   "metadata": {},
   "source": [
    "Questions:"
   ]
  },
  {
   "cell_type": "markdown",
   "id": "84570f60",
   "metadata": {},
   "source": [
    "1. Why are functions advantageous to have in your programs?\n",
    "\n",
    "2. When does the code in a function run: when it's specified or when it's called?\n",
    "\n",
    "3. What statement creates a function?\n",
    "\n",
    "4. What is the difference between a function and a function call?\n",
    "\n",
    "5. How many global scopes are there in a Python program? How many local scopes?\n",
    "\n",
    "6. What happens to variables in a local scope when the function call returns?\n",
    "\n",
    "7. What is the concept of a return value? Is it possible to have a return value in an expression?\n",
    "\n",
    "8. If a function does not have a return statement, what is the return value of a call to that function?\n",
    "\n",
    "9. How do you make a function variable refer to the global variable?\n",
    "\n",
    "10. What is the data type of None?\n",
    "\n",
    "11. What does the sentence import areallyourpetsnamederic do?\n",
    "\n",
    "12. If you had a bacon() feature in a spam module, what would you call it after importing spam?\n",
    "\n",
    "13. What can you do to save a programme from crashing if it encounters an error?\n",
    "\n",
    "14. What is the purpose of the try clause? What is the purpose of the except clause?"
   ]
  },
  {
   "cell_type": "raw",
   "id": "514793f9",
   "metadata": {},
   "source": [
    "Solutions:"
   ]
  },
  {
   "cell_type": "raw",
   "id": "706b2764",
   "metadata": {},
   "source": [
    "1.\n",
    "\n",
    "Functions allow code reusability and reduce the need for duplicate code. This enhances the readability of the code making it shorter and easy to update. Functions also allow abstraction by hiding the implementation details of a particular task behind a well-defined interface."
   ]
  },
  {
   "cell_type": "raw",
   "id": "a1d202db",
   "metadata": {},
   "source": [
    "2.\n",
    "\n",
    "The code in the function runs when it is called."
   ]
  },
  {
   "cell_type": "raw",
   "id": "ef67034f",
   "metadata": {},
   "source": [
    "3.\n",
    "\n",
    "The def statement creates a function.\n",
    "ex: def example():\n",
    "        # code"
   ]
  },
  {
   "cell_type": "raw",
   "id": "299009f3",
   "metadata": {},
   "source": [
    "4.\n",
    "\n",
    "The difference between function and a function call is that a function defines a set code in its def statement which is executed \n",
    "when that function is called using a function call. The function call evaluates the function's return value.\n",
    "ex: \n",
    "def example():  >>function\n",
    "   #code \n",
    "   \n",
    "example()      >> function call"
   ]
  },
  {
   "cell_type": "raw",
   "id": "4fb0c322",
   "metadata": {},
   "source": [
    "5.\n",
    "\n",
    "A Python program can have multiple local scopes and one global scope.\n",
    "Global scope are variables defined outside a function, and can be accessed throughout the program.\n",
    "Local scope are variables defined within a function, and can only be accessed within that function or block."
   ]
  },
  {
   "cell_type": "raw",
   "id": "9b7a636a",
   "metadata": {},
   "source": [
    "6.\n",
    "\n",
    "When a function call returns, the local scope is destroyed."
   ]
  },
  {
   "cell_type": "raw",
   "id": "33aacdc5",
   "metadata": {},
   "source": [
    "7. \n",
    "\n",
    "A return value is the value that a function call evaluates to and it can be used as part of an expression."
   ]
  },
  {
   "cell_type": "raw",
   "id": "29964956",
   "metadata": {},
   "source": [
    "8.\n",
    "\n",
    "If a funtion does not have a return statement it will simply not return anything."
   ]
  },
  {
   "cell_type": "raw",
   "id": "2980c691",
   "metadata": {},
   "source": [
    "9.\n",
    "\n",
    "To make function variable as a global variable, we use the 'global' keyword to declare which variables are global."
   ]
  },
  {
   "cell_type": "raw",
   "id": "38be1898",
   "metadata": {},
   "source": [
    "10.\n",
    "\n",
    "The data type of None is None."
   ]
  },
  {
   "cell_type": "raw",
   "id": "0d4fa132",
   "metadata": {},
   "source": [
    "11.\n",
    "\n",
    "That import statement imports a module named areallyourpetsnamederic. Since a module with that name doesnt exist in Python,\n",
    "we get ModuleNotFound Error."
   ]
  },
  {
   "cell_type": "raw",
   "id": "2996690d",
   "metadata": {},
   "source": [
    "12.\n",
    "\n",
    "import spam\n",
    "spam.bacon()"
   ]
  },
  {
   "cell_type": "raw",
   "id": "f07d3d91",
   "metadata": {},
   "source": [
    "13.\n",
    "\n",
    "If a program encounters an error, we use try except statement to prevent it from crashing"
   ]
  },
  {
   "cell_type": "raw",
   "id": "9c06bac5",
   "metadata": {},
   "source": [
    "14.\n",
    "\n",
    "Try and Except clause is used to handle the errors within the code. \n",
    "Try block: The code inside the try block will execute when there is no error in the program. \n",
    "Except block: It will execute whenever the program encounters some error in the try block.\n",
    "\n",
    "Ex: \n",
    "try:\n",
    " #code\n",
    "except:\n",
    " # executed if an error occurs in the try block"
   ]
  }
 ],
 "metadata": {
  "kernelspec": {
   "display_name": "Python 3 (ipykernel)",
   "language": "python",
   "name": "python3"
  },
  "language_info": {
   "codemirror_mode": {
    "name": "ipython",
    "version": 3
   },
   "file_extension": ".py",
   "mimetype": "text/x-python",
   "name": "python",
   "nbconvert_exporter": "python",
   "pygments_lexer": "ipython3",
   "version": "3.11.4"
  }
 },
 "nbformat": 4,
 "nbformat_minor": 5
}
