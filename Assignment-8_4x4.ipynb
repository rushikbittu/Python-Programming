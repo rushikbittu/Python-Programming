{
 "cells": [
  {
   "cell_type": "markdown",
   "id": "96b0a1a5",
   "metadata": {},
   "source": [
    "### Name: Rushik patel\n",
    "### UGID: 21WU0101046\n",
    "### Assignment - 8"
   ]
  },
  {
   "cell_type": "raw",
   "id": "b9aab821",
   "metadata": {},
   "source": [
    "Questions:"
   ]
  },
  {
   "cell_type": "markdown",
   "id": "95dd96f0",
   "metadata": {},
   "source": [
    " 1. In Python, what is the difference between a built-in function and a user-defined function? Provide an\n",
    " example of each.\n",
    " 2. How can you pass arguments to a function in Python? Explain the difference between positional\n",
    " arguments and keyword arguments.\n",
    " 3. What is the purpose of the return statement in a function? Can a function have multiple return\n",
    " statements? Explain with an example.\n",
    " 4. What are lambda functions in Python? How are they different from regular functions? Provide an\n",
    " example where a lambda function can be useful.\n",
    " 5. How does the concept of \"scope\" apply to functions in Python? Explain the difference between local\n",
    " scope and global scope.\n",
    " 6. How can you use the \"return\" statement in a Python function to return multiple values?\n",
    " 7. What is the difference between the \"pass by value\" and \"pass by reference\" concepts when it\n",
    " comes to function arguments in Python?\n",
    " 8. Create a function that can intake integer or decimal value and do following operations:\n",
    " a. Logarithmic function (log x)\n",
    " b. Exponential function (exp(x))\n",
    " c. Power function with base 2 (2x)\n",
    " d. Square root\n",
    " 9. Create a function that takes a full name as an argument and returns first name and last name."
   ]
  },
  {
   "cell_type": "raw",
   "id": "7ec3d06e",
   "metadata": {},
   "source": [
    "Solutions:"
   ]
  },
  {
   "cell_type": "raw",
   "id": "281333f4",
   "metadata": {},
   "source": [
    "1.\n",
    "\n",
    "Built-in Functions:\n",
    "- Pre-defined functions provided by Python.\n",
    "- Ex: print(len(\"Python\"))  # Output: 6\n",
    "- Here, len and print are built-in functions\n",
    "\n",
    "User Defined functions:\n",
    "- Functions created by the user to perform specific tasks\n",
    "- Ex: \n",
    "\n",
    "def greet(name):\n",
    "    return f\"Hello, {name}!\"\n",
    "print(greet(\"Maya\"))  \n",
    "# Output: Hello, Maya!\n",
    "\n",
    "- Here, greet is a user defined function"
   ]
  },
  {
   "cell_type": "raw",
   "id": "7851581d",
   "metadata": {},
   "source": [
    "2.\n",
    "\n",
    "Passing arguments to a function:\n",
    "- Positional arguments are passed in the same order as defined in the function.\n",
    "Ex:\n",
    "def add(a, b):\n",
    "    return a + b\n",
    "print(add(3, 4))  # Output: 7\n",
    "\n",
    "- Keyword arguments are passed by explicitly naming the parameters.\n",
    "Ex:\n",
    "def add(a, b):\n",
    "    return a + b\n",
    "print(add(a=3, b=4))  # Output: 7\n"
   ]
  },
  {
   "cell_type": "raw",
   "id": "23f88751",
   "metadata": {},
   "source": [
    "3. \n",
    "\n",
    "-The return statement ends a function and specifies a value to be returned to the function caller. \n",
    "-A function can have multiple return statements.\n",
    "Ex:\n",
    "def number(n):\n",
    "    if n > 0:\n",
    "        return \"Positive\"\n",
    "    elif n < 0:\n",
    "        return \"Negative\"\n",
    "    else:\n",
    "        return \"Zero\"\n",
    "\n",
    "print(number(6))   # Output: Positive\n",
    "print(number(-7))  # Output: Negative\n",
    "print(number(0))   # Output: Zero\n"
   ]
  },
  {
   "cell_type": "raw",
   "id": "5d821503",
   "metadata": {},
   "source": [
    "4.\n",
    "\n",
    "Lambda functions are small anonymous functions defined with the lambda keyword. \n",
    "They are different from regular functions because they are limited to a single expression.\n",
    "Ex:\n",
    "square = lambda x: x ** 2\n",
    "print(square(6)) \n",
    "\n",
    "# Output: 36\n"
   ]
  },
  {
   "cell_type": "raw",
   "id": "f5f72447",
   "metadata": {},
   "source": [
    "5.\n",
    "\n",
    "Scope refers to the visibility of variables. \n",
    "Global scope: Variables are defined outside a function, accessible with the global keyword.\n",
    "Local scope: Variables defined inside a function are local to that function.\n",
    "\n",
    "x = 5  # Global\n",
    "\n",
    "def test():\n",
    "    x = 2  # Local\n",
    "    print(\"Local:\", x)\n",
    "\n",
    "test()       # Output: Local:5\n",
    "print(\"Global:\", x)  # Output: Global:10\n"
   ]
  },
  {
   "cell_type": "raw",
   "id": "54ed179b",
   "metadata": {},
   "source": [
    "6.\n",
    "\n",
    "We can return multiple values as a tuple.\n",
    "\n",
    "def operations(a, b):\n",
    "    sum_ = a + b\n",
    "    diff = a - b\n",
    "    return sum_, diff\n",
    "\n",
    "result = operations(10, 5)\n",
    "print(result)  \n",
    "# Output: (15, 5)\n"
   ]
  },
  {
   "cell_type": "raw",
   "id": "cd94b0f8",
   "metadata": {},
   "source": [
    "7.\n",
    "\n",
    "Pass by Value: The function receives a copy of the argument value. Changes made to the parameter inside the function do not reflect outside.\n",
    "Pass by Reference: The function receives a reference to the argument. Changes made to the parameter inside the function reflect outside.\n",
    "In Python, arguments are passed by object reference, meaning mutable objects can be altered within the function.\n",
    "\n",
    "Ex:\n",
    "def modify_list(l):\n",
    "    l.append(4)\n",
    "list = ['a','b','c']\n",
    "modify_list(list)\n",
    "print(list)  \n",
    "\n",
    "# Output: ['a','b','c', 4]\n"
   ]
  },
  {
   "cell_type": "code",
   "execution_count": 1,
   "id": "475e0b0b",
   "metadata": {},
   "outputs": [
    {
     "name": "stdout",
     "output_type": "stream",
     "text": [
      "Logarithm (log(x)): 2.1972245773362196\n",
      "Exponential (exp(x)): 8103.083927575384\n",
      "Power of 2 (2^x): 512\n",
      "Square Root (√x): 3.0\n"
     ]
    }
   ],
   "source": [
    "8.\n",
    "\n",
    "import math\n",
    "\n",
    "def math_operations(x):\n",
    "    print(f\"Logarithm (log(x)): {math.log(x)}\")\n",
    "    print(f\"Exponential (exp(x)): {math.exp(x)}\")\n",
    "    print(f\"Power of 2 (2^x): {2 ** x}\")\n",
    "    print(f\"Square Root (√x): {math.sqrt(x)}\")\n",
    "\n",
    "math_operations(9)\n"
   ]
  },
  {
   "cell_type": "code",
   "execution_count": 2,
   "id": "69bf5179",
   "metadata": {},
   "outputs": [
    {
     "name": "stdout",
     "output_type": "stream",
     "text": [
      "Enter full name: Rushik patel\n",
      "First Name: Rushik, Last Name: patel\n"
     ]
    }
   ],
   "source": [
    "9.\n",
    "\n",
    "def name(full_name):\n",
    "    first_name, last_name = full_name.split(\" \", 1)\n",
    "    return first_name, last_name\n",
    "\n",
    "first, last = name(input(\"Enter full name: \"))\n",
    "print(f\"First Name: {first}, Last Name: {last}\")\n"
   ]
  }
 ],
 "metadata": {
  "kernelspec": {
   "display_name": "Python 3 (ipykernel)",
   "language": "python",
   "name": "python3"
  },
  "language_info": {
   "codemirror_mode": {
    "name": "ipython",
    "version": 3
   },
   "file_extension": ".py",
   "mimetype": "text/x-python",
   "name": "python",
   "nbconvert_exporter": "python",
   "pygments_lexer": "ipython3",
   "version": "3.11.4"
  }
 },
 "nbformat": 4,
 "nbformat_minor": 5
}
